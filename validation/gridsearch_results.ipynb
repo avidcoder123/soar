{
 "cells": [
  {
   "cell_type": "code",
   "execution_count": 1,
   "id": "ceba67ea-ca2f-4406-9d93-2347d09ff2ca",
   "metadata": {},
   "outputs": [],
   "source": [
    "import pandas as pd\n",
    "import jax\n",
    "import jax.numpy as jnp"
   ]
  },
  {
   "cell_type": "code",
   "execution_count": 2,
   "id": "7849b82a-8219-4ecb-a9a4-cced9541c7e8",
   "metadata": {},
   "outputs": [],
   "source": [
    "adam_results = pd.read_csv(\"gridsearch_adam.csv\", index_col=0)\n",
    "adam_results.insert(0, \"optimizer\", \"adam\")\n",
    "adabelief_results = pd.read_csv(\"gridsearch_adabelief.csv\", index_col=0)\n",
    "adabelief_results.insert(0, \"optimizer\", \"adabelief\")\n",
    "adagrad_results = pd.read_csv(\"gridsearch_adagrad.csv\", index_col=0)\n",
    "adagrad_results.insert(0, \"optimizer\", \"adagrad\")\n",
    "\n",
    "results = pd.concat([adam_results, adabelief_results, adagrad_results])"
   ]
  },
  {
   "cell_type": "code",
   "execution_count": 3,
   "id": "c563ed6d-3730-45d7-b145-edce44eb5403",
   "metadata": {},
   "outputs": [],
   "source": [
    "var = \"num_coefficients\""
   ]
  },
  {
   "cell_type": "code",
   "execution_count": 4,
   "id": "d7dbded6-8ea9-4294-97f7-84d1900a5bd8",
   "metadata": {},
   "outputs": [],
   "source": [
    "var_col = results[var]"
   ]
  },
  {
   "cell_type": "code",
   "execution_count": 5,
   "id": "78da4f68-a681-41cf-8591-4e1beb326f14",
   "metadata": {
    "tags": []
   },
   "outputs": [],
   "source": [
    "results.insert(7, \"score\", results[\"loss\"] ** 2 + results[\"time\"])"
   ]
  },
  {
   "cell_type": "code",
   "execution_count": 7,
   "id": "838ddf67-4270-4c22-b574-10b00a4a7204",
   "metadata": {
    "tags": []
   },
   "outputs": [
    {
     "data": {
      "text/html": [
       "<div>\n",
       "<style scoped>\n",
       "    .dataframe tbody tr th:only-of-type {\n",
       "        vertical-align: middle;\n",
       "    }\n",
       "\n",
       "    .dataframe tbody tr th {\n",
       "        vertical-align: top;\n",
       "    }\n",
       "\n",
       "    .dataframe thead th {\n",
       "        text-align: right;\n",
       "    }\n",
       "</style>\n",
       "<table border=\"1\" class=\"dataframe\">\n",
       "  <thead>\n",
       "    <tr style=\"text-align: right;\">\n",
       "      <th></th>\n",
       "      <th>optimizer</th>\n",
       "      <th>num_coefficients</th>\n",
       "      <th>wing_points</th>\n",
       "      <th>lr</th>\n",
       "      <th>iters</th>\n",
       "      <th>loss</th>\n",
       "      <th>time</th>\n",
       "      <th>score</th>\n",
       "    </tr>\n",
       "  </thead>\n",
       "  <tbody>\n",
       "    <tr>\n",
       "      <th>172</th>\n",
       "      <td>adagrad</td>\n",
       "      <td>10.0</td>\n",
       "      <td>25.0</td>\n",
       "      <td>0.0100</td>\n",
       "      <td>100.0</td>\n",
       "      <td>0.526185</td>\n",
       "      <td>1.975302</td>\n",
       "      <td>2.252174</td>\n",
       "    </tr>\n",
       "    <tr>\n",
       "      <th>157</th>\n",
       "      <td>adabelief</td>\n",
       "      <td>10.0</td>\n",
       "      <td>25.0</td>\n",
       "      <td>0.0005</td>\n",
       "      <td>100.0</td>\n",
       "      <td>0.684405</td>\n",
       "      <td>2.219991</td>\n",
       "      <td>2.688402</td>\n",
       "    </tr>\n",
       "    <tr>\n",
       "      <th>196</th>\n",
       "      <td>adagrad</td>\n",
       "      <td>10.0</td>\n",
       "      <td>50.0</td>\n",
       "      <td>0.0100</td>\n",
       "      <td>50.0</td>\n",
       "      <td>1.109110</td>\n",
       "      <td>1.720934</td>\n",
       "      <td>2.951060</td>\n",
       "    </tr>\n",
       "    <tr>\n",
       "      <th>162</th>\n",
       "      <td>adabelief</td>\n",
       "      <td>10.0</td>\n",
       "      <td>25.0</td>\n",
       "      <td>0.0010</td>\n",
       "      <td>100.0</td>\n",
       "      <td>0.837121</td>\n",
       "      <td>2.251574</td>\n",
       "      <td>2.952346</td>\n",
       "    </tr>\n",
       "    <tr>\n",
       "      <th>162</th>\n",
       "      <td>adam</td>\n",
       "      <td>10.0</td>\n",
       "      <td>25.0</td>\n",
       "      <td>0.0010</td>\n",
       "      <td>100.0</td>\n",
       "      <td>0.868417</td>\n",
       "      <td>2.286936</td>\n",
       "      <td>3.041084</td>\n",
       "    </tr>\n",
       "  </tbody>\n",
       "</table>\n",
       "</div>"
      ],
      "text/plain": [
       "     optimizer  num_coefficients  wing_points      lr  iters      loss  \\\n",
       "172    adagrad              10.0         25.0  0.0100  100.0  0.526185   \n",
       "157  adabelief              10.0         25.0  0.0005  100.0  0.684405   \n",
       "196    adagrad              10.0         50.0  0.0100   50.0  1.109110   \n",
       "162  adabelief              10.0         25.0  0.0010  100.0  0.837121   \n",
       "162       adam              10.0         25.0  0.0010  100.0  0.868417   \n",
       "\n",
       "         time     score  \n",
       "172  1.975302  2.252174  \n",
       "157  2.219991  2.688402  \n",
       "196  1.720934  2.951060  \n",
       "162  2.251574  2.952346  \n",
       "162  2.286936  3.041084  "
      ]
     },
     "execution_count": 7,
     "metadata": {},
     "output_type": "execute_result"
    }
   ],
   "source": [
    "results.sort_values(by=[\"score\"]).head(n=5)"
   ]
  }
 ],
 "metadata": {
  "kernelspec": {
   "display_name": ".conda-default:Python",
   "language": "python",
   "name": "conda-env-.conda-default-py"
  },
  "language_info": {
   "codemirror_mode": {
    "name": "ipython",
    "version": 3
   },
   "file_extension": ".py",
   "mimetype": "text/x-python",
   "name": "python",
   "nbconvert_exporter": "python",
   "pygments_lexer": "ipython3",
   "version": "3.9.19"
  }
 },
 "nbformat": 4,
 "nbformat_minor": 5
}
