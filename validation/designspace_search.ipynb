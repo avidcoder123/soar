{
 "cells": [
  {
   "cell_type": "code",
   "execution_count": 1,
   "id": "e42273d0-780f-42ed-a167-1409de03b05f",
   "metadata": {},
   "outputs": [
    {
     "name": "stdout",
     "output_type": "stream",
     "text": [
      "Requirement already satisfied: equinox in /home/studio-lab-user/.conda/envs/default/lib/python3.9/site-packages (0.11.4)\n",
      "Requirement already satisfied: typing-extensions>=4.5.0 in /home/studio-lab-user/.conda/envs/default/lib/python3.9/site-packages (from equinox) (4.11.0)\n",
      "Requirement already satisfied: jaxtyping>=0.2.20 in /home/studio-lab-user/.conda/envs/default/lib/python3.9/site-packages (from equinox) (0.2.33)\n",
      "Requirement already satisfied: jax>=0.4.13 in /home/studio-lab-user/.conda/envs/default/lib/python3.9/site-packages (from equinox) (0.4.30)\n",
      "Requirement already satisfied: ml-dtypes>=0.2.0 in /home/studio-lab-user/.conda/envs/default/lib/python3.9/site-packages (from jax>=0.4.13->equinox) (0.4.0)\n",
      "Requirement already satisfied: opt-einsum in /home/studio-lab-user/.conda/envs/default/lib/python3.9/site-packages (from jax>=0.4.13->equinox) (3.3.0)\n",
      "Requirement already satisfied: importlib-metadata>=4.6 in /home/studio-lab-user/.conda/envs/default/lib/python3.9/site-packages (from jax>=0.4.13->equinox) (7.1.0)\n",
      "Requirement already satisfied: numpy>=1.22 in /home/studio-lab-user/.conda/envs/default/lib/python3.9/site-packages (from jax>=0.4.13->equinox) (1.24.4)\n",
      "Requirement already satisfied: jaxlib<=0.4.30,>=0.4.27 in /home/studio-lab-user/.conda/envs/default/lib/python3.9/site-packages (from jax>=0.4.13->equinox) (0.4.30)\n",
      "Requirement already satisfied: scipy>=1.9 in /home/studio-lab-user/.conda/envs/default/lib/python3.9/site-packages (from jax>=0.4.13->equinox) (1.13.1)\n",
      "Requirement already satisfied: zipp>=0.5 in /home/studio-lab-user/.conda/envs/default/lib/python3.9/site-packages (from importlib-metadata>=4.6->jax>=0.4.13->equinox) (3.17.0)\n",
      "Requirement already satisfied: typeguard==2.13.3 in /home/studio-lab-user/.conda/envs/default/lib/python3.9/site-packages (from jaxtyping>=0.2.20->equinox) (2.13.3)\n",
      "Note: you may need to restart the kernel to use updated packages.\n"
     ]
    }
   ],
   "source": [
    "%pip install equinox"
   ]
  },
  {
   "cell_type": "code",
   "execution_count": 2,
   "id": "4efe1c54-fa15-4521-bf78-64b8adeb8589",
   "metadata": {},
   "outputs": [],
   "source": [
    "import jax\n",
    "import jax.numpy as jnp"
   ]
  },
  {
   "cell_type": "code",
   "execution_count": 3,
   "id": "0701d575-ad42-417e-82de-6aa6f0e7e32e",
   "metadata": {},
   "outputs": [],
   "source": [
    "input_labels = [\"B\", \"T\", \"P\", \"C\", \"E\", \"R\", \"Alpha\", \"Re\"]"
   ]
  },
  {
   "cell_type": "code",
   "execution_count": 4,
   "id": "ef801a7a-03a3-4d2a-ae94-117bf80bb219",
   "metadata": {},
   "outputs": [],
   "source": [
    "import equinox as eqx\n",
    "\n",
    "class SurrogateModel(eqx.Module):\n",
    "    \n",
    "    layers: list\n",
    "        \n",
    "    def __init__(self, in_size, out_size, width_size, depth, activation, key):\n",
    "        keys = jax.random.split(key, depth + 2)\n",
    "        \n",
    "        input_key = keys[0]\n",
    "        output_key = keys[-1]\n",
    "        hidden_keys = keys[1:-1]\n",
    "        \n",
    "        input_layer = eqx.nn.Linear(in_size, width_size, key=input_key)\n",
    "        output_layer = eqx.nn.Linear(width_size, out_size, key=output_key)\n",
    "        \n",
    "        #Make Reynolds number on log10 scale\n",
    "        @jax.jit\n",
    "        def normalize_reynolds_number(x):\n",
    "            Re = x[-1]\n",
    "            Re = jnp.log10(Re)\n",
    "            \n",
    "            #Set maximum of Re=10^6\n",
    "            Re = jnp.min(jnp.hstack((Re, 6)))\n",
    "            \n",
    "            return jnp.hstack((x[:-1], Re))\n",
    "            \n",
    "        \n",
    "        self.layers = [\n",
    "            normalize_reynolds_number,\n",
    "            jax.nn.standardize, #Standardize -1 to 1\n",
    "            input_layer,\n",
    "            activation\n",
    "        ]\n",
    "        for key in hidden_keys:\n",
    "            self.layers.append(eqx.nn.Linear(width_size, width_size, key=key))\n",
    "            self.layers.append(activation)\n",
    "            \n",
    "        self.layers.append(output_layer)\n",
    "        \n",
    "    def __call__(self, x):\n",
    "                \n",
    "        for layer in self.layers:\n",
    "            x = layer(x)\n",
    "\n",
    "        return x\n",
    "\n",
    "#Create dummy model\n",
    "key = jax.random.PRNGKey(42)\n",
    "model = SurrogateModel(\n",
    "    in_size=len(input_labels),\n",
    "    out_size=1,\n",
    "    width_size=64,\n",
    "    depth=4,\n",
    "    activation=jax.nn.silu,\n",
    "    key=key\n",
    ")\n",
    "\n",
    "model = eqx.tree_deserialise_leaves(f\"models/lift_surrogate.eqx\", model)"
   ]
  },
  {
   "cell_type": "code",
   "execution_count": 5,
   "id": "e11ded6b-a194-4694-b919-43588fec722b",
   "metadata": {
    "tags": []
   },
   "outputs": [
    {
     "data": {
      "text/plain": [
       "(1000, 6)"
      ]
     },
     "execution_count": 5,
     "metadata": {},
     "output_type": "execute_result"
    }
   ],
   "source": [
    "num_points = 1000\n",
    "\n",
    "key = jax.random.PRNGKey(42)\n",
    "k1, k2, k3, k4, k5, k6 = jax.random.split(key, 6)\n",
    "\n",
    "B = jnp.linspace(1.5, 2.5, num_points).reshape(1, num_points)\n",
    "T = jnp.linspace(0.1, 0.25, num_points).reshape(1, num_points)\n",
    "P = jnp.linspace(0.4, 4, num_points).reshape(1, num_points)\n",
    "C = jnp.linspace(0, 0.2, num_points).reshape(1, num_points)\n",
    "E = jnp.linspace(0.6, 1.4, num_points).reshape(1, num_points)\n",
    "R = jnp.linspace(-0.03, 0.03, num_points).reshape(1, num_points)\n",
    "\n",
    "B = jax.random.permutation(x=B, key=k1)\n",
    "T = jax.random.permutation(x=T, key=k2)\n",
    "P = jax.random.permutation(x=P, key=k3)\n",
    "C = jax.random.permutation(x=C, key=k4)\n",
    "E = jax.random.permutation(x=E, key=k5)\n",
    "R = jax.random.permutation(x=R, key=k6)\n",
    "\n",
    "dataset = jnp.vstack((B, T, P, C, E, R)).T\n",
    "\n",
    "thetas = jnp.linspace(-10, 10, 25)\n",
    "rad_thetas = jnp.deg2rad(thetas)\n",
    "\n",
    "dataset.shape"
   ]
  },
  {
   "cell_type": "code",
   "execution_count": 6,
   "id": "935a4299-4f70-45d2-afb8-2c1dbc40fdb3",
   "metadata": {},
   "outputs": [],
   "source": [
    "Re = 1e6"
   ]
  },
  {
   "cell_type": "code",
   "execution_count": 7,
   "id": "2a5a8a9f-1e38-4480-87e1-a2c333f3dd19",
   "metadata": {},
   "outputs": [],
   "source": [
    "from functools import partial\n",
    "from scipy.stats import linregress\n",
    "\n",
    "@partial(jax.vmap, in_axes=(None, None, None, None, None, None, 0, None))\n",
    "@jax.jit\n",
    "def cl(B, T, P, C, E, R, alpha, Re):\n",
    "    return model(jnp.hstack([B, T, P, C, E, R, alpha, Re]))\n",
    "\n",
    "@jax.jit\n",
    "@jax.vmap\n",
    "def error(data):\n",
    "    lifts = cl(*data, thetas, Re).flatten()\n",
    "    \n",
    "    slope = jnp.polyfit(rad_thetas, lifts, deg=1)[0]\n",
    "    \n",
    "    return jnp.abs(slope - 2 * jnp.pi)"
   ]
  },
  {
   "cell_type": "code",
   "execution_count": 8,
   "id": "e33d6b25-7bfd-4ab9-a0a5-b6682b6ff7b9",
   "metadata": {
    "tags": []
   },
   "outputs": [],
   "source": [
    "#Run entire dataset for each value of a single variable\n",
    "@partial(jax.vmap, in_axes=(None, 0, None))\n",
    "def check_variable(idx, value, dataset):\n",
    "    values = jnp.full((1, num_points), value).T\n",
    "    before = dataset[:, :idx]\n",
    "    after = dataset[:, idx + 1:]\n",
    "    \n",
    "    dataset = jnp.concatenate((before, values, after), axis=1)\n",
    "    \n",
    "    return jnp.mean(error(dataset))"
   ]
  },
  {
   "cell_type": "code",
   "execution_count": null,
   "id": "1692e056-6496-4378-8f3f-cea5953ea0ba",
   "metadata": {
    "tags": []
   },
   "outputs": [
    {
     "name": "stderr",
     "output_type": "stream",
     "text": [
      "2024-10-15 15:08:51.508576: E external/xla/xla/service/slow_operation_alarm.cc:65] Constant folding an instruction is taking > 1s:\n",
      "\n",
      "  %reduce.15 = f32[1000,1000,25]{2,1,0} reduce(f32[1000,1000,25,1]{3,2,1,0} %broadcast.51, f32[] %constant.46), dimensions={3}, to_apply=%region_1.75, metadata={op_name=\"jit(error)/jit(main)/vmap(vmap(jit(cl)))/jit(standardize)/reduce_sum[axes=(3,)]\" source_file=\"/tmp/ipykernel_669/2402161584.py\" source_line=44}\n",
      "\n",
      "This isn't necessarily a bug; constant-folding is inherently a trade-off between compilation time and speed at runtime. XLA has some guards that attempt to keep constant folding from taking too long, but fundamentally you'll always be able to come up with an input program that takes a long time.\n",
      "\n",
      "If you'd like to file a bug, run with envvar XLA_FLAGS=--xla_dump_to=/tmp/foo and attach the results.\n",
      "2024-10-15 15:09:32.940581: E external/xla/xla/service/slow_operation_alarm.cc:133] The operation took 42.43210609s\n",
      "Constant folding an instruction is taking > 1s:\n",
      "\n",
      "  %reduce.15 = f32[1000,1000,25]{2,1,0} reduce(f32[1000,1000,25,1]{3,2,1,0} %broadcast.51, f32[] %constant.46), dimensions={3}, to_apply=%region_1.75, metadata={op_name=\"jit(error)/jit(main)/vmap(vmap(jit(cl)))/jit(standardize)/reduce_sum[axes=(3,)]\" source_file=\"/tmp/ipykernel_669/2402161584.py\" source_line=44}\n",
      "\n",
      "This isn't necessarily a bug; constant-folding is inherently a trade-off between compilation time and speed at runtime. XLA has some guards that attempt to keep constant folding from taking too long, but fundamentally you'll always be able to come up with an input program that takes a long time.\n",
      "\n",
      "If you'd like to file a bug, run with envvar XLA_FLAGS=--xla_dump_to=/tmp/foo and attach the results.\n"
     ]
    }
   ],
   "source": [
    "from matplotlib import pyplot as plt\n",
    "\n",
    "paramdict = {\n",
    "    \"B\": B.flatten(),\n",
    "    \"T\": T.flatten(),\n",
    "    \"P\": P.flatten(),\n",
    "    \"C\": C.flatten(),\n",
    "    \"E\": E.flatten(),\n",
    "    \"R\": R.flatten()\n",
    "}\n",
    "\n",
    "fig, axes = plt.subplots(3, 2, squeeze=True)\n",
    "axes = axes.flatten()\n",
    "\n",
    "for ax, (idx, (param_name, param_values)) in zip(axes, enumerate(paramdict.items())):\n",
    "    \n",
    "    errors = check_variable(idx, param_values, dataset)\n",
    "    \n",
    "    order = jnp.argsort(param_values)\n",
    "    \n",
    "    ax.plot(param_values[order], errors[order], label=param_name)\n",
    "    ax.legend()"
   ]
  }
 ],
 "metadata": {
  "kernelspec": {
   "display_name": ".conda-default:Python",
   "language": "python",
   "name": "conda-env-.conda-default-py"
  },
  "language_info": {
   "codemirror_mode": {
    "name": "ipython",
    "version": 3
   },
   "file_extension": ".py",
   "mimetype": "text/x-python",
   "name": "python",
   "nbconvert_exporter": "python",
   "pygments_lexer": "ipython3",
   "version": "3.9.19"
  }
 },
 "nbformat": 4,
 "nbformat_minor": 5
}
