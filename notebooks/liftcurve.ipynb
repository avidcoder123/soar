{
 "cells": [
  {
   "cell_type": "code",
   "execution_count": 1,
   "id": "a360ed9a-b7c1-4cc4-af41-e03c4ec1358c",
   "metadata": {},
   "outputs": [
    {
     "name": "stdout",
     "output_type": "stream",
     "text": [
      "Requirement already satisfied: equinox in /home/studio-lab-user/.conda/envs/default/lib/python3.9/site-packages (0.11.4)\n",
      "Requirement already satisfied: jaxtyping>=0.2.20 in /home/studio-lab-user/.conda/envs/default/lib/python3.9/site-packages (from equinox) (0.2.33)\n",
      "Requirement already satisfied: typing-extensions>=4.5.0 in /home/studio-lab-user/.conda/envs/default/lib/python3.9/site-packages (from equinox) (4.11.0)\n",
      "Requirement already satisfied: jax>=0.4.13 in /home/studio-lab-user/.conda/envs/default/lib/python3.9/site-packages (from equinox) (0.4.30)\n",
      "Requirement already satisfied: ml-dtypes>=0.2.0 in /home/studio-lab-user/.conda/envs/default/lib/python3.9/site-packages (from jax>=0.4.13->equinox) (0.4.0)\n",
      "Requirement already satisfied: importlib-metadata>=4.6 in /home/studio-lab-user/.conda/envs/default/lib/python3.9/site-packages (from jax>=0.4.13->equinox) (7.1.0)\n",
      "Requirement already satisfied: opt-einsum in /home/studio-lab-user/.conda/envs/default/lib/python3.9/site-packages (from jax>=0.4.13->equinox) (3.3.0)\n",
      "Requirement already satisfied: jaxlib<=0.4.30,>=0.4.27 in /home/studio-lab-user/.conda/envs/default/lib/python3.9/site-packages (from jax>=0.4.13->equinox) (0.4.30)\n",
      "Requirement already satisfied: numpy>=1.22 in /home/studio-lab-user/.conda/envs/default/lib/python3.9/site-packages (from jax>=0.4.13->equinox) (1.24.4)\n",
      "Requirement already satisfied: scipy>=1.9 in /home/studio-lab-user/.conda/envs/default/lib/python3.9/site-packages (from jax>=0.4.13->equinox) (1.13.1)\n",
      "Requirement already satisfied: zipp>=0.5 in /home/studio-lab-user/.conda/envs/default/lib/python3.9/site-packages (from importlib-metadata>=4.6->jax>=0.4.13->equinox) (3.17.0)\n",
      "Requirement already satisfied: typeguard==2.13.3 in /home/studio-lab-user/.conda/envs/default/lib/python3.9/site-packages (from jaxtyping>=0.2.20->equinox) (2.13.3)\n",
      "Note: you may need to restart the kernel to use updated packages.\n"
     ]
    }
   ],
   "source": [
    "%pip install equinox"
   ]
  },
  {
   "cell_type": "code",
   "execution_count": 2,
   "id": "1180be1c-987b-433c-9890-8f329e147fa7",
   "metadata": {
    "tags": []
   },
   "outputs": [],
   "source": [
    "import equinox as eqx\n",
    "import jax\n",
    "import jax.numpy as jnp\n",
    "\n",
    "class SurrogateModel(eqx.Module):\n",
    "    \n",
    "    layers: list\n",
    "        \n",
    "    def __init__(self, in_size, out_size, width_size, depth, activation, key):\n",
    "        keys = jax.random.split(key, depth + 2)\n",
    "        \n",
    "        input_key = keys[0]\n",
    "        output_key = keys[-1]\n",
    "        hidden_keys = keys[1:-1]\n",
    "        \n",
    "        input_layer = eqx.nn.Linear(in_size, width_size, key=input_key)\n",
    "        output_layer = eqx.nn.Linear(width_size, out_size, key=output_key)\n",
    "        \n",
    "        #Make Reynolds number on log10 scale\n",
    "        @jax.jit\n",
    "        def normalize_reynolds_number(x):\n",
    "            Re = x[-1]\n",
    "            Re = jnp.log10(Re)\n",
    "            \n",
    "            #Set maximum of Re=10^6\n",
    "            Re = jnp.min(jnp.hstack((Re, 6)))\n",
    "            \n",
    "            return jnp.hstack((x[:-1], Re))\n",
    "            \n",
    "        \n",
    "        self.layers = [\n",
    "            normalize_reynolds_number,\n",
    "            jax.nn.standardize, #Standardize -1 to 1\n",
    "            input_layer,\n",
    "            activation\n",
    "        ]\n",
    "        for key in hidden_keys:\n",
    "            self.layers.append(eqx.nn.Linear(width_size, width_size, key=key))\n",
    "            self.layers.append(activation)\n",
    "            \n",
    "        self.layers.append(output_layer)\n",
    "        \n",
    "    def __call__(self, x):\n",
    "                \n",
    "        for layer in self.layers:\n",
    "            x = layer(x)\n",
    "\n",
    "        return x\n",
    "\n",
    "#Create dummy model\n",
    "key = jax.random.PRNGKey(42)\n",
    "model = SurrogateModel(\n",
    "    in_size=8,\n",
    "    out_size=1,\n",
    "    width_size=64,\n",
    "    depth=4,\n",
    "    activation=jax.nn.silu,\n",
    "    key=key\n",
    ")\n",
    "model = eqx.tree_deserialise_leaves(f\"models/lift_surrogate.eqx\", model)"
   ]
  },
  {
   "cell_type": "code",
   "execution_count": 3,
   "id": "04604fac-12a5-462b-822e-de0a7d5867fa",
   "metadata": {
    "tags": []
   },
   "outputs": [
    {
     "data": {
      "text/plain": [
       "[<matplotlib.lines.Line2D at 0x7f2085790130>]"
      ]
     },
     "execution_count": 3,
     "metadata": {},
     "output_type": "execute_result"
    },
    {
     "data": {
      "image/png": "[encoded data removed]",
      "text/plain": [
       "<Figure size 640x480 with 1 Axes>"
      ]
     },
     "metadata": {},
     "output_type": "display_data"
    }
   ],
   "source": [
    "import matplotlib.pyplot as plt\n",
    "\n",
    "B = 1.79094660282135\n",
    "T = 0.1879087835550308\n",
    "P = 2.998518228530884\n",
    "C = 0.0500964857637882\n",
    "E = 0.9923266768455504\n",
    "R = 0.0028237155638635\n",
    "Re = 1_000_000\n",
    "\n",
    "thetas = jnp.linspace(-15, 15, 50)\n",
    "\n",
    "def cl(B, T, P, C, E, R, alpha, Re):\n",
    "    return model(jnp.array([B, T, P, C, E, R, alpha, Re]))\n",
    "\n",
    "cl = jax.vmap(cl, in_axes=(None, None, None, None, None, None, 0, None))\n",
    "\n",
    "lifts = cl(B, T, P, C, E, R, thetas, Re)\n",
    "\n",
    "plt.plot(thetas, lifts)"
   ]
  }
 ],
 "metadata": {
  "kernelspec": {
   "display_name": ".conda-default:Python",
   "language": "python",
   "name": "conda-env-.conda-default-py"
  },
  "language_info": {
   "codemirror_mode": {
    "name": "ipython",
    "version": 3
   },
   "file_extension": ".py",
   "mimetype": "text/x-python",
   "name": "python",
   "nbconvert_exporter": "python",
   "pygments_lexer": "ipython3",
   "version": "3.9.19"
  }
 },
 "nbformat": 4,
 "nbformat_minor": 5
}
