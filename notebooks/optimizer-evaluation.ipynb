{
 "cells": [
  {
   "cell_type": "code",
   "execution_count": null,
   "metadata": {
    "_cell_guid": "b1076dfc-b9ad-4769-8c92-a6c4dae69d19",
    "_uuid": "8f2839f25d086af736a60e9eeb907d3b93b6e0e5"
   },
   "outputs": [],
   "source": [
    "! rm -rf soar && git clone https://github.com/avidcoder123/soar.git"
   ]
  },
  {
   "cell_type": "code",
   "execution_count": null,
   "metadata": {},
   "outputs": [],
   "source": [
    "%pip install equinox openmdao[all]"
   ]
  },
  {
   "cell_type": "code",
   "execution_count": null,
   "metadata": {},
   "outputs": [],
   "source": [
    "import sys\n",
    "sys.path.append(\"soar\")\n",
    "import equinox as eqx\n",
    "from soar.util import generate_base_model, density, dyn_viscousity\n",
    "import jax\n",
    "import jax.numpy as jnp"
   ]
  },
  {
   "cell_type": "code",
   "execution_count": null,
   "metadata": {},
   "outputs": [],
   "source": [
    "base_model = generate_base_model()\n",
    "\n",
    "lift_model = eqx.tree_deserialise_leaves(f\"/kaggle/input/soar-surrogates/lift_surrogate.eqx\", base_model)\n",
    "drag_model = eqx.tree_deserialise_leaves(f\"/kaggle/input/soar-surrogates/drag_surrogate.eqx\", base_model)"
   ]
  },
  {
   "cell_type": "markdown",
   "metadata": {},
   "source": [
    "# Variable bounds\n",
    "\n",
    "$L\\in(10^4N, 4.5\\times10^6N)$\n",
    "\n",
    "$V_\\infty\\in(50\\frac{m}{s}, 200\\frac{m}{s}$)\n",
    "\n",
    "$h\\in(10^3m, 10^4m)$\n",
    "\n",
    "$\\alpha_{geo}\\in(0^\\circ, 7.5^\\circ)$\n",
    "\n",
    "Note to self: in the CSV, put just the raw data of all the attempts then I can use `pandas` elsewhere to do the data analysis. This is because some conditions (like very low lift at high angle of attack and high velocity) are impossible to achieve with the optimizer bounds. Convergence can be checked using lift error."
   ]
  },
  {
   "cell_type": "code",
   "execution_count": null,
   "metadata": {},
   "outputs": [],
   "source": [
    "from scipy.stats import qmc\n",
    "\n",
    "def deg2rad(rad):\n",
    "    return jnp.deg2rad(rad).item()\n",
    "\n",
    "sampler = qmc.LatinHypercube(d=3)\n",
    "\n",
    "l_bounds = [50, 1e3, deg2rad(0)]\n",
    "u_bounds = [200, 1e4, deg2rad(7.5)]\n",
    "\n",
    "sample = sampler.random(n=10)\n",
    "sample = qmc.scale(sample, l_bounds, u_bounds)\n",
    "conditions = jnp.array(sample) #Test 10 different flight conditions\n",
    "\n",
    "#0.25, 0.5, 0.75, or 1\n",
    "safety_factor = 1\n",
    "\n",
    "lifts = jnp.linspace(5e3, 1e6, 10) #10 different lift goals"
   ]
  },
  {
   "cell_type": "code",
   "execution_count": null,
   "metadata": {},
   "outputs": [],
   "source": [
    "from soar.optimizer import Optimizer"
   ]
  },
  {
   "cell_type": "code",
   "execution_count": null,
   "metadata": {},
   "outputs": [],
   "source": [
    "import time\n",
    "from functools import partial\n",
    "\n",
    "def run_optimization(lift_goal, conditions):\n",
    "    opt = Optimizer()\n",
    "    opt.load_surrogates(lift_model, drag_model)\n",
    "    \n",
    "    \n",
    "    #Aluminum, because most wings are made using it or a composite including it\n",
    "    opt.define_material(\n",
    "        E=69e9,\n",
    "        rho=2700,\n",
    "        yield_strength=241e6,\n",
    "        shear_strength=207e6\n",
    "    )\n",
    "    \n",
    "    v_infty = conditions[0]\n",
    "    altitude = conditions[1]\n",
    "    alpha_geo = conditions[2]\n",
    "    \n",
    "    results = opt.solve_wing(\n",
    "        lift_goal=lift_goal,\n",
    "        v_infty=v_infty,\n",
    "        rho=density(altitude),\n",
    "        mu=dyn_viscousity(altitude),\n",
    "        alpha_geo=alpha_geo,\n",
    "        safety_factor=safety_factor\n",
    "    )\n",
    "    \n",
    "    parameters = jnp.array(list(results[\"parameters\"].values()))\n",
    "    aerodynamics = jnp.hstack(list(results[\"aerodynamics\"].values()))\n",
    "    \n",
    "    return jnp.concat([*parameters, aerodynamics])\n",
    "\n",
    "results = []\n",
    "\n",
    "for lift_goal in lifts:\n",
    "    for condition in conditions:\n",
    "        result = [lift_goal, *condition]\n",
    "        t = time.time()\n",
    "        result += list(run_optimization(lift_goal, condition).copy())\n",
    "        result.append(time.time() - t)\n",
    "        \n",
    "        results.append(result)"
   ]
  },
  {
   "cell_type": "code",
   "execution_count": null,
   "metadata": {},
   "outputs": [],
   "source": [
    "! rm -rf /kaggle/working/problem*"
   ]
  },
  {
   "cell_type": "code",
   "execution_count": null,
   "metadata": {},
   "outputs": [],
   "source": [
    "import pandas as pd\n",
    "import numpy as np\n",
    "\n",
    "df = pd.DataFrame(data=results, columns=[\"lift_goal\", \"v_infty\", \"altitude\", \"alpha_geo\", \"B\", \"T\", \"P\", \"C\", \"E\", \"R\", \"b\", \"c\", \"AR\", \"L\", \"D\", \"Cl_0\", \"alpha_0\", \"time\"])\n",
    "#Convert angles to degrees\n",
    "df[\"alpha_geo\"] = jnp.rad2deg(jnp.array(np.hstack(df[\"alpha_geo\"])))\n",
    "\n",
    "df.to_csv(f\"/kaggle/working/results_{safety_factor}.csv\")"
   ]
  }
 ],
 "metadata": {
  "kaggle": {
   "accelerator": "none",
   "dataSources": [
    {
     "datasetId": 5864841,
     "sourceId": 9611461,
     "sourceType": "datasetVersion"
    }
   ],
   "dockerImageVersionId": 30786,
   "isGpuEnabled": false,
   "isInternetEnabled": true,
   "language": "python",
   "sourceType": "notebook"
  },
  "kernelspec": {
   "display_name": ".conda-default:Python",
   "language": "python",
   "name": "conda-env-.conda-default-py"
  },
  "language_info": {
   "codemirror_mode": {
    "name": "ipython",
    "version": 3
   },
   "file_extension": ".py",
   "mimetype": "text/x-python",
   "name": "python",
   "nbconvert_exporter": "python",
   "pygments_lexer": "ipython3",
   "version": "3.9.19"
  }
 },
 "nbformat": 4,
 "nbformat_minor": 4
}
