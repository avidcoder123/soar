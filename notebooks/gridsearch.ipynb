{
 "cells": [
  {
   "cell_type": "markdown",
   "metadata": {},
   "source": [
    "# Hyperparameter Grid Search"
   ]
  },
  {
   "cell_type": "code",
   "execution_count": null,
   "metadata": {
    "execution": {
     "iopub.execute_input": "2024-10-11T16:58:43.411262Z",
     "iopub.status.busy": "2024-10-11T16:58:43.410805Z",
     "iopub.status.idle": "2024-10-11T16:58:43.417828Z",
     "shell.execute_reply": "2024-10-11T16:58:43.416633Z",
     "shell.execute_reply.started": "2024-10-11T16:58:43.411220Z"
    }
   },
   "outputs": [],
   "source": [
    "import jax\n",
    "import jax.numpy as jnp\n",
    "import pandas as pd\n",
    "from scipy.stats import qmc\n",
    "from functools import partial\n",
    "import optax\n",
    "import os\n",
    "import sys"
   ]
  },
  {
   "cell_type": "code",
   "execution_count": null,
   "metadata": {
    "execution": {
     "iopub.execute_input": "2024-10-11T16:58:43.421706Z",
     "iopub.status.busy": "2024-10-11T16:58:43.420909Z",
     "iopub.status.idle": "2024-10-11T16:58:43.428450Z",
     "shell.execute_reply": "2024-10-11T16:58:43.427136Z",
     "shell.execute_reply.started": "2024-10-11T16:58:43.421656Z"
    }
   },
   "outputs": [],
   "source": [
    "optimizer = \"adagrad\""
   ]
  },
  {
   "cell_type": "markdown",
   "metadata": {},
   "source": [
    "# Variable bounds\n",
    "\n",
    "$c\\in (1, 4)$\n",
    "\n",
    "$AR\\in (5, 15)$\n",
    "\n",
    "$\\alpha_{L=0}\\in (-6^{\\circ}, 0^{\\circ})$\n",
    "\n",
    "$\\alpha_{geo}\\in (-10^{\\circ}, 10^{\\circ})$"
   ]
  },
  {
   "cell_type": "code",
   "execution_count": null,
   "metadata": {
    "execution": {
     "iopub.execute_input": "2024-10-11T16:58:43.431544Z",
     "iopub.status.busy": "2024-10-11T16:58:43.430999Z",
     "iopub.status.idle": "2024-10-11T16:58:43.438359Z",
     "shell.execute_reply": "2024-10-11T16:58:43.437147Z",
     "shell.execute_reply.started": "2024-10-11T16:58:43.431491Z"
    }
   },
   "outputs": [],
   "source": [
    "def deg2rad(rad):\n",
    "    return jnp.deg2rad(rad).item()"
   ]
  },
  {
   "cell_type": "code",
   "execution_count": null,
   "metadata": {
    "execution": {
     "iopub.execute_input": "2024-10-11T16:58:43.440375Z",
     "iopub.status.busy": "2024-10-11T16:58:43.439975Z",
     "iopub.status.idle": "2024-10-11T16:58:43.457611Z",
     "shell.execute_reply": "2024-10-11T16:58:43.456383Z",
     "shell.execute_reply.started": "2024-10-11T16:58:43.440307Z"
    },
    "tags": []
   },
   "outputs": [],
   "source": [
    "sampler = qmc.LatinHypercube(d=4)\n",
    "sample = sampler.random(n=5000)\n",
    "\n",
    "l_bounds = [1, 5, deg2rad(-6), deg2rad(-10)]\n",
    "u_bounds = [4, 15, deg2rad(0), deg2rad(10)]\n",
    "\n",
    "sample = qmc.scale(sample, l_bounds, u_bounds)\n",
    "sample = jnp.array(sample)\n",
    "\n",
    "#Turn the second column into the wingspan\n",
    "c = sample[:, 0].reshape(-1, 1)\n",
    "b = (sample[:, 0] * sample[:, 1]).reshape(-1, 1)\n",
    "rest = sample[:, 2:]\n",
    "\n",
    "sample = jnp.hstack([c, b, rest])"
   ]
  },
  {
   "cell_type": "markdown",
   "metadata": {},
   "source": [
    "# Define the circulation solvers\n",
    "A custom function is used to allow flexibility in using different hyperparameters for the lifting-line solver"
   ]
  },
  {
   "cell_type": "code",
   "execution_count": null,
   "metadata": {
    "execution": {
     "iopub.execute_input": "2024-10-11T16:58:43.460705Z",
     "iopub.status.busy": "2024-10-11T16:58:43.460296Z",
     "iopub.status.idle": "2024-10-11T16:58:43.468056Z",
     "shell.execute_reply": "2024-10-11T16:58:43.466918Z",
     "shell.execute_reply.started": "2024-10-11T16:58:43.460665Z"
    }
   },
   "outputs": [],
   "source": [
    "#Calculate induced angle of attack from Fourier coefficients\n",
    "@jax.jit\n",
    "def alpha_i_fn(theta, coefficients, n_list):\n",
    "    summation_fn = jax.vmap(lambda An, n: n * An * jnp.sin(n * theta) / jnp.sin(theta))\n",
    "    radians = summation_fn(coefficients, n_list).sum()   \n",
    "    return radians"
   ]
  },
  {
   "cell_type": "code",
   "execution_count": null,
   "metadata": {
    "execution": {
     "iopub.execute_input": "2024-10-11T16:58:43.470056Z",
     "iopub.status.busy": "2024-10-11T16:58:43.469649Z",
     "iopub.status.idle": "2024-10-11T16:58:43.481629Z",
     "shell.execute_reply": "2024-10-11T16:58:43.479999Z",
     "shell.execute_reply.started": "2024-10-11T16:58:43.470018Z"
    }
   },
   "outputs": [],
   "source": [
    "@jax.jit\n",
    "def circulation_error(theta, coefficients, n_list, alpha_0, alpha_geo, b, c):\n",
    "    alpha_eff = alpha_0\n",
    "\n",
    "    summation_fn = jax.vmap(lambda An, n: An * jnp.sin(n * theta))\n",
    "\n",
    "    alpha_eff += (2*b)/(jnp.pi * c) * summation_fn(coefficients, n_list).sum()\n",
    "\n",
    "    #summation_fn = jax.vmap(lambda An, n: n * An * jnp.sin(n * theta) / jnp.sin(theta))\n",
    "    alpha_i = alpha_i_fn(theta, coefficients, n_list)\n",
    "\n",
    "    error = jnp.rad2deg(alpha_eff + alpha_i - alpha_geo)\n",
    "\n",
    "    return error\n",
    "\n",
    "def circulation_loss(coefficients, n_list, wing_points, alpha_0, alpha_geo, b, c):\n",
    "    thetas = jnp.linspace(1e-6, jnp.pi - 1e-6, wing_points)\n",
    "    error = jax.vmap(circulation_error, in_axes=(0, None, None, None, None, None, None))\n",
    "\n",
    "    loss = jnp.mean(error(thetas, coefficients, n_list, alpha_0, alpha_geo, b, c) ** 2) #MSE loss\n",
    "    \n",
    "    return loss"
   ]
  },
  {
   "cell_type": "code",
   "execution_count": null,
   "metadata": {
    "execution": {
     "iopub.execute_input": "2024-10-11T16:58:43.483585Z",
     "iopub.status.busy": "2024-10-11T16:58:43.483111Z",
     "iopub.status.idle": "2024-10-11T16:58:43.497156Z",
     "shell.execute_reply": "2024-10-11T16:58:43.495600Z",
     "shell.execute_reply.started": "2024-10-11T16:58:43.483542Z"
    }
   },
   "outputs": [],
   "source": [
    "def solve_coefficients(c, b, alpha_0, alpha_geo, num_coefficients, wing_points, lr, iters):\n",
    "    num_coefficients = num_coefficients.astype(jnp.int32)\n",
    "    wing_points = wing_points.astype(jnp.int32)\n",
    "    iters = iters.astype(jnp.int32)\n",
    "    \n",
    "    n_list = jnp.arange(1, num_coefficients * 2 + 1, 2)\n",
    "        \n",
    "    #Initial guess for Fourier coefficients\n",
    "    coefficients = jnp.zeros(num_coefficients)\n",
    "    if optimizer == \"adabelief\":\n",
    "        solver = optax.adabelief(lr)\n",
    "    elif optimizer == \"adam\":\n",
    "        solver = optax.adam(lr)\n",
    "    elif optimizer == \"adagrad\":\n",
    "        solver = optax.adagrad(lr)\n",
    "    \n",
    "    opt_state = solver.init(coefficients)\n",
    "    \n",
    "    value_and_grad = jax.value_and_grad(circulation_loss)\n",
    "    cost = 1e10\n",
    "\n",
    "    for i in range(iters):\n",
    "        cost, grad = value_and_grad(coefficients, n_list, wing_points, alpha_0, alpha_geo, b, c)\n",
    "\n",
    "        updates, opt_state = solver.update(\n",
    "            grad,\n",
    "            opt_state\n",
    "        )\n",
    "\n",
    "        coefficients = optax.apply_updates(coefficients, updates)\n",
    "        \n",
    "    #Check the loss for a constant wing points\n",
    "    cost = circulation_loss(coefficients, n_list, 100, alpha_0, alpha_geo, b, c)\n",
    "            \n",
    "    return jnp.rad2deg(cost)"
   ]
  },
  {
   "cell_type": "markdown",
   "metadata": {
    "tags": []
   },
   "source": [
    "# Hyperparameter lists\n",
    "TODO: Do these tests with different optimizer too (SGD, Adam, LBFGS, Gradient Descent, other Newton method)"
   ]
  },
  {
   "cell_type": "code",
   "execution_count": null,
   "metadata": {
    "execution": {
     "iopub.execute_input": "2024-10-11T16:58:43.499375Z",
     "iopub.status.busy": "2024-10-11T16:58:43.498926Z",
     "iopub.status.idle": "2024-10-11T16:58:43.519182Z",
     "shell.execute_reply": "2024-10-11T16:58:43.517594Z",
     "shell.execute_reply.started": "2024-10-11T16:58:43.499296Z"
    },
    "tags": []
   },
   "outputs": [],
   "source": [
    "num_coefficients = jnp.array([5, 10, 20, 35, 50])\n",
    "wing_points = jnp.array([10, 25, 50, 75, 100])\n",
    "lr = jnp.array([1e-4, 5e-4, 1e-3, 5e-3, 1e-2])\n",
    "iters = jnp.array([25, 50, 100, 150, 250])\n",
    "\n",
    "hyperparams = jnp.meshgrid(num_coefficients, wing_points, lr, iters, indexing=\"ij\")\n",
    "hyperparams = jnp.stack(hyperparams, axis=-1)\n",
    "hyperparams = hyperparams.reshape(-1, hyperparams.shape[-1])\n",
    "\n",
    "hyperparams.shape"
   ]
  },
  {
   "cell_type": "markdown",
   "metadata": {},
   "source": [
    "# Function to get loss of each combination"
   ]
  },
  {
   "cell_type": "code",
   "execution_count": null,
   "metadata": {
    "execution": {
     "iopub.execute_input": "2024-10-11T16:58:43.521059Z",
     "iopub.status.busy": "2024-10-11T16:58:43.520617Z",
     "iopub.status.idle": "2024-10-11T16:58:43.529635Z",
     "shell.execute_reply": "2024-10-11T16:58:43.528210Z",
     "shell.execute_reply.started": "2024-10-11T16:58:43.521020Z"
    },
    "tags": []
   },
   "outputs": [],
   "source": [
    "def get_hyperparam_loss(params, sample):\n",
    "    coefficients_losses = jax.vmap(solve_coefficients, in_axes=(0, 0, 0, 0, None, None, None, None))\n",
    "    c = sample[:, 0]\n",
    "    b = sample[:, 1]\n",
    "    alpha_0 = sample[:, 2]\n",
    "    alpha_geo = sample[:, 3]\n",
    "    \n",
    "    losses = coefficients_losses(c, b, alpha_0, alpha_geo, params[0], params[1], params[2], params[3])\n",
    "    \n",
    "    return jnp.mean(losses)"
   ]
  },
  {
   "cell_type": "markdown",
   "metadata": {},
   "source": [
    "# Run the grid search"
   ]
  },
  {
   "cell_type": "code",
   "execution_count": null,
   "metadata": {
    "execution": {
     "iopub.execute_input": "2024-10-11T16:58:43.534523Z",
     "iopub.status.busy": "2024-10-11T16:58:43.533582Z",
     "iopub.status.idle": "2024-10-11T16:59:19.952118Z",
     "shell.execute_reply": "2024-10-11T16:59:19.951018Z",
     "shell.execute_reply.started": "2024-10-11T16:58:43.534444Z"
    },
    "tags": []
   },
   "outputs": [],
   "source": [
    "import time\n",
    "import pandas as pd\n",
    "\n",
    "losses = []\n",
    "times = []\n",
    "\n",
    "for i in range(hyperparams.shape[0]):\n",
    "    start = time.time()\n",
    "    loss = get_hyperparam_loss(hyperparams[i], sample)\n",
    "    end = time.time()\n",
    "    \n",
    "    times.append(end-start)\n",
    "    losses.append(loss)\n",
    "    \n",
    "    print(i)\n",
    "    \n",
    "losses = jnp.array(losses).reshape(-1, 1)\n",
    "times = jnp.array(times).reshape(-1, 1)\n",
    "\n",
    "total = jnp.hstack((hyperparams, losses, times))\n",
    "\n",
    "df = pd.DataFrame(total, columns=[\"num_coefficients\", \"wing_points\", \"lr\", \"iters\", \"loss\", \"time\"])\n",
    "df.to_csv(f\"/kaggle/working/gridsearch_{optimizer}.csv\")"
   ]
  }
 ],
 "metadata": {
  "kaggle": {
   "accelerator": "none",
   "dataSources": [],
   "dockerImageVersionId": 30786,
   "isGpuEnabled": false,
   "isInternetEnabled": true,
   "language": "python",
   "sourceType": "notebook"
  },
  "kernelspec": {
   "display_name": ".conda-default:Python",
   "language": "python",
   "name": "conda-env-.conda-default-py"
  },
  "language_info": {
   "codemirror_mode": {
    "name": "ipython",
    "version": 3
   },
   "file_extension": ".py",
   "mimetype": "text/x-python",
   "name": "python",
   "nbconvert_exporter": "python",
   "pygments_lexer": "ipython3",
   "version": "3.9.19"
  }
 },
 "nbformat": 4,
 "nbformat_minor": 4
}
