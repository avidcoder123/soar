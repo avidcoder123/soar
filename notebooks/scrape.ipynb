{
 "cells": [
  {
   "cell_type": "code",
   "execution_count": 1,
   "id": "3beea20d-4fdc-4b2e-9b7e-19666a6988d1",
   "metadata": {
    "tags": []
   },
   "outputs": [],
   "source": [
    "import requests\n",
    "from bs4 import BeautifulSoup\n",
    "import re\n",
    "import numpy as np\n",
    "import jax\n",
    "import jax.numpy as jnp\n",
    "import pandas as pd\n",
    "from tqdm import tqdm"
   ]
  },
  {
   "cell_type": "code",
   "execution_count": 2,
   "id": "690624b2-aec5-48e2-af2c-65d36376b899",
   "metadata": {
    "tags": []
   },
   "outputs": [],
   "source": [
    "def batch(iterable, n=1):\n",
    "    l = len(iterable)\n",
    "    for ndx in range(0, l, n):\n",
    "        yield iterable[ndx:min(ndx + n, l)]\n",
    "\n",
    "airfoils_list = requests.get(\"http://www.airfoiltools.com/search/airfoils\").text\n",
    "#Get links for each airfoil\n",
    "airfoil_links = re.findall(r\"\\/airfoil\\/details\\?airfoil=[\\w-]+\", airfoils_list)\n",
    "\n",
    "#Add domain name to beginning of each link\n",
    "airfoil_links = list(map(lambda x: \"http://www.airfoiltools.com\" + x, airfoil_links))\n",
    "airfoil_dicts = list(map(lambda x: ({\"name\": x.split(\"=\")[1] ,\"link\": x}), airfoil_links))\n",
    "\n",
    "#batches = list(batch(airfoil_dicts, 200))\n",
    "\n",
    "#Change this as time goes on\n",
    "checkpoint = 46\n",
    "\n",
    "#print(\"Total batches\", len(batches))\n",
    "\n",
    "airfoil_dicts = airfoil_dicts[checkpoint:]\n",
    "\n",
    "# print(\"Scraping batch\", batchidx)\n",
    "# print(\"Batch size\", len(airfoil_dicts))"
   ]
  },
  {
   "cell_type": "code",
   "execution_count": 3,
   "id": "5c8ee4a7-a938-42fa-8e9e-fe40baf1efc6",
   "metadata": {
    "tags": []
   },
   "outputs": [],
   "source": [
    "from io import StringIO\n",
    "\n",
    "def scrape_airfoil(airfoil):\n",
    "    airfoil_page = requests.get(airfoil[\"link\"]).text\n",
    "    \n",
    "    coords_link = f\"http://www.airfoiltools.com/airfoil/seligdatfile?airfoil={airfoil['name']}\"\n",
    "    datfile = StringIO(requests.get(coords_link).text)\n",
    "    \n",
    "    coords = np.loadtxt(datfile, unpack=True, skiprows=1) #Load airfoil coords into 2d array\n",
    "    coords = jnp.asarray(coords)\n",
    "    \n",
    "    airfoil[\"coords\"] = coords\n",
    "    \n",
    "    #Reynolds numbers to fetch\n",
    "    reynolds_numbers = map(lambda x: int(x) ,[5e4, 1e5, 2e5, 5e5, 1e6])\n",
    "    combined_polars = []\n",
    "    for Re in reynolds_numbers:\n",
    "        polar_link = f\"http://www.airfoiltools.com/polar/csv?polar=xf-{airfoil['name']}-{Re}\"\n",
    "        polars = StringIO(requests.get(polar_link).text)\n",
    "        try:\n",
    "            polars = pd.read_csv(polars, skiprows=10, dtype=float, on_bad_lines='skip')\n",
    "        except:\n",
    "            return None\n",
    "        #polars = polars.drop(columns=[\"Top_Xtr\", \"Bot_Xtr\"]) #Drop unnecessary labels\n",
    "        polars = polars.assign(Re=Re)\n",
    "        \n",
    "        columns = [\"Alpha\", \"Re\", \"Cl\", \"Cd\", \"Cdp\", \"Cm\"]\n",
    "        \n",
    "        combined_polars.append(polars[columns])\n",
    "    \n",
    "    combined_polars = pd.concat(combined_polars)\n",
    "    airfoil[\"polars\"] = combined_polars\n",
    "    \n",
    "    return airfoil"
   ]
  },
  {
   "cell_type": "code",
   "execution_count": 4,
   "id": "52d83d26-6889-44b6-9bc7-1fd444457854",
   "metadata": {
    "tags": []
   },
   "outputs": [
    {
     "name": "stdout",
     "output_type": "stream",
     "text": [
      "Getting airfoil coordinates and polars (1638 airfoils)\n"
     ]
    },
    {
     "name": "stderr",
     "output_type": "stream",
     "text": [
      "100%|██████████| 1638/1638 [04:18<00:00,  6.34it/s]\n"
     ]
    }
   ],
   "source": [
    "from concurrent.futures import ThreadPoolExecutor, wait\n",
    "\n",
    "print(f\"Getting airfoil coordinates and polars ({len(airfoil_dicts)} airfoils)\")\n",
    "\n",
    "with ThreadPoolExecutor(max_workers=10) as exec:\n",
    "    result = tqdm(exec.map(scrape_airfoil, airfoil_dicts), total=len(airfoil_dicts))\n",
    "    airfoil_dicts = list(result)\n",
    "    \n",
    "airfoil_dicts = list(filter(lambda x: x is not None, airfoil_dicts))"
   ]
  },
  {
   "cell_type": "code",
   "execution_count": null,
   "id": "cd13a5e4-2bc7-408b-90ce-b8692021dd97",
   "metadata": {
    "tags": []
   },
   "outputs": [
    {
     "name": "stdout",
     "output_type": "stream",
     "text": [
      "Fitting airfoils to parameterized geometry\n"
     ]
    },
    {
     "name": "stderr",
     "output_type": "stream",
     "text": [
      "  3%|▎         | 44/1629 [24:24<15:00:02, 34.07s/it]"
     ]
    }
   ],
   "source": [
    "import jax.scipy as jsci\n",
    "import optax\n",
    "\n",
    "print(\"Fitting airfoils to parameterized geometry\")\n",
    "\n",
    "for airfoil in tqdm(airfoil_dicts):\n",
    "    \n",
    "    coords = airfoil[\"coords\"]\n",
    "    \n",
    "    #Split the airfoil into top and bottom halves for interpolation\n",
    "    tophalf = coords[:, :int(coords[0].size/2 + 1)]\n",
    "    tophalf = jnp.flip(tophalf, axis=1)\n",
    "    bottomhalf = coords[:, int(coords[0].size/2):]\n",
    "            \n",
    "    def shapecost(params):\n",
    "        B, T, P, C, E, R = params\n",
    "        \n",
    "        top_theta = jnp.linspace(1e-3, jnp.pi - 1e-3, 25)\n",
    "        bottom_theta = jnp.linspace(jnp.pi + 1e-3, 2*jnp.pi - 1e-3, 25)\n",
    "        \n",
    "        @jax.jit\n",
    "        def X(theta):\n",
    "            return 0.5 + 0.5 * (\n",
    "                jnp.abs(\n",
    "                    jnp.cos(theta)\n",
    "                ) ** B\n",
    "                / jnp.cos(theta))\n",
    "        \n",
    "        @jax.jit\n",
    "        def Y(theta):\n",
    "            x = X(theta)\n",
    "\n",
    "            y = T / 2\n",
    "            y *= jnp.abs(jnp.sin(theta)) ** B / jnp.sin(theta)\n",
    "            y *= 1 - x ** P\n",
    "            y += C * jnp.sin(jnp.pi * x ** E)\n",
    "            y += R * jnp.sin(2 * jnp.pi * x)\n",
    "\n",
    "            return y\n",
    "        \n",
    "        #Interpolate top and bottom parts of airfoil to get expected Y values\n",
    "        y_top = jnp.interp(jnp.flip(X(top_theta)), tophalf[0], tophalf[1])\n",
    "        y_bottom = jnp.interp(X(bottom_theta), bottomhalf[0], bottomhalf[1])\n",
    "        \n",
    "        all_theta = jnp.concat((top_theta, bottom_theta))\n",
    "        all_y = jnp.concat((jnp.flip(y_top), y_bottom))\n",
    "        \n",
    "                \n",
    "        return jnp.mean((all_y - Y(all_theta)) ** 2)\n",
    "        \n",
    "        \n",
    "    \n",
    "    #Starting params\n",
    "    params = jnp.array([1.5, 0.2, 3, 0.1, 1, 0])\n",
    "    \n",
    "    solver = optax.lbfgs()\n",
    "    opt_state = solver.init(params)\n",
    "    value_and_grad = optax.value_and_grad_from_state(shapecost)\n",
    "        \n",
    "    for _ in range(10):\n",
    "                \n",
    "        cost, grad = value_and_grad(params, state=opt_state)\n",
    "        \n",
    "        updates, opt_state = solver.update(\n",
    "            grad,\n",
    "            opt_state,\n",
    "            params,\n",
    "            grad=grad,\n",
    "            value=cost,\n",
    "            value_fn=shapecost\n",
    "        )\n",
    "\n",
    "        params = optax.apply_updates(params, updates)\n",
    "        \n",
    "    \n",
    "    airfoil[\"geometry\"] = params\n",
    "    airfoil[\"shapeloss\"] = shapecost(params)\n",
    "    \n",
    "    geometry_columns = [\"B\", \"T\", \"P\", \"C\", \"E\", \"R\"]\n",
    "    geometry_dict = dict(zip(geometry_columns, airfoil[\"geometry\"].tolist()))\n",
    "    \n",
    "    shaped_polar = airfoil[\"polars\"].assign(**geometry_dict)\n",
    "    \n",
    "    complete_columns = geometry_columns + [\"Alpha\", \"Re\", \"Cl\", \"Cd\", \"Cdp\", \"Cm\"]\n",
    "    shaped_polar = shaped_polar[complete_columns]\n",
    "    \n",
    "    shaped_polar.to_csv(f\"airfoil_data/airfoils_{checkpoint}.csv\", index=False)\n",
    "    \n",
    "    checkpoint += 1"
   ]
  },
  {
   "cell_type": "code",
   "execution_count": null,
   "id": "8dfe74c8-5d25-4546-8c01-f564bc7a6cd3",
   "metadata": {
    "tags": []
   },
   "outputs": [],
   "source": [
    "# #Add shape information to the polars\n",
    "# shaped_polars = []\n",
    "\n",
    "# for airfoil in airfoil_dicts:\n",
    "#     geometry_columns = [\"B\", \"T\", \"P\", \"C\", \"E\", \"R\"]\n",
    "#     geometry_dict = dict(zip(geometry_columns, airfoil[\"geometry\"].tolist()))\n",
    "    \n",
    "#     shaped_polar = airfoil[\"polars\"].assign(**geometry_dict)\n",
    "    \n",
    "#     complete_columns = geometry_columns + [\"Alpha\", \"Re\", \"Cl\", \"Cd\", \"Cdp\", \"Cm\"]\n",
    "#     shaped_polar = shaped_polar[complete_columns]\n",
    "    \n",
    "#     shaped_polars.append(shaped_polar)\n",
    "\n",
    "# #Complete dataset for airfoil\n",
    "# dataset = pd.concat(shaped_polars)\n",
    "# dataset.to_csv(f\"airfoils_{batchidx}.csv\", index=False)\n",
    "\n",
    "# dataset.head()"
   ]
  },
  {
   "cell_type": "code",
   "execution_count": null,
   "id": "b6bb1209-8958-4cf8-9d8c-0106429e97fc",
   "metadata": {},
   "outputs": [],
   "source": [
    "# if False:\n",
    "#     B, T, P, C, E, R = params\n",
    "        \n",
    "#     thetas = jnp.linspace(1e-3, 2 * jnp.pi - 1e-3, 100)\n",
    "\n",
    "#     @jax.jit\n",
    "#     def X(theta):\n",
    "#         return 0.5 + 0.5 * (\n",
    "#             jnp.abs(\n",
    "#                 jnp.cos(theta)\n",
    "#             ) ** B\n",
    "#             / jnp.cos(theta))\n",
    "\n",
    "#     @jax.jit\n",
    "#     def Y(theta):\n",
    "#         x = X(theta)\n",
    "\n",
    "#         y = T / 2\n",
    "#         y *= jnp.abs(jnp.sin(theta)) ** B / jnp.sin(theta)\n",
    "#         y *= 1 - x ** P\n",
    "#         y += C * jnp.sin(jnp.pi * x ** E)\n",
    "#         y += R * jnp.sin(2 * jnp.pi * x)\n",
    "\n",
    "#         return y\n",
    "\n",
    "#     plt.plot(X(thetas), Y(thetas), label=\"Predicted\")\n",
    "\n",
    "#     plt.legend()\n",
    "\n",
    "#     plt.plot(coords[0], coords[1], label=\"Real\")\n",
    "    \n",
    "#     plt.gca().set_aspect('equal', adjustable='box')\n",
    "\n",
    "#     plt.show()"
   ]
  }
 ],
 "metadata": {
  "kernelspec": {
   "display_name": ".conda-default:Python",
   "language": "python",
   "name": "conda-env-.conda-default-py"
  },
  "language_info": {
   "codemirror_mode": {
    "name": "ipython",
    "version": 3
   },
   "file_extension": ".py",
   "mimetype": "text/x-python",
   "name": "python",
   "nbconvert_exporter": "python",
   "pygments_lexer": "ipython3",
   "version": "3.9.19"
  }
 },
 "nbformat": 4,
 "nbformat_minor": 5
}
