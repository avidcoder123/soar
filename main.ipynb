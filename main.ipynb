{
 "cells": [
  {
   "cell_type": "code",
   "execution_count": 1,
   "id": "db1160a3-4074-4a5b-bf0e-e97bcc1eeb52",
   "metadata": {},
   "outputs": [],
   "source": [
    "#%pip install equinox openmdao[all]"
   ]
  },
  {
   "cell_type": "code",
   "execution_count": 2,
   "id": "f6bbc7e5-1293-4ae5-99cc-eb934d7152ae",
   "metadata": {
    "tags": []
   },
   "outputs": [],
   "source": [
    "import equinox as eqx\n",
    "from util import generate_base_model, density, dyn_viscousity\n",
    "import jax\n",
    "import jax.numpy as jnp"
   ]
  },
  {
   "cell_type": "code",
   "execution_count": 3,
   "id": "0d820f2f-3351-48c4-bd07-5d3d9d55aa4c",
   "metadata": {
    "tags": []
   },
   "outputs": [],
   "source": [
    "base_model = generate_base_model()\n",
    "\n",
    "lift_model = eqx.tree_deserialise_leaves(f\"models/lift_surrogate.eqx\", base_model)\n",
    "drag_model = eqx.tree_deserialise_leaves(f\"models/drag_surrogate.eqx\", base_model)"
   ]
  },
  {
   "cell_type": "code",
   "execution_count": 4,
   "id": "132ea057-a802-4f4a-8dd6-7c99ee9d6a7b",
   "metadata": {},
   "outputs": [],
   "source": [
    "from optimizer import Optimizer"
   ]
  },
  {
   "cell_type": "code",
   "execution_count": 5,
   "id": "7822fd29-f476-4a6d-93a6-5bf5b5b45e24",
   "metadata": {},
   "outputs": [],
   "source": [
    "opt = Optimizer()"
   ]
  },
  {
   "cell_type": "code",
   "execution_count": 6,
   "id": "7ef89a10-a8ad-438b-95f5-2eb81bdb8cb0",
   "metadata": {
    "tags": []
   },
   "outputs": [],
   "source": [
    "opt.load_surrogates(lift_model, drag_model)"
   ]
  },
  {
   "cell_type": "code",
   "execution_count": 7,
   "id": "ca6ecece-d72b-467c-96b2-e5837e3945aa",
   "metadata": {},
   "outputs": [],
   "source": [
    "opt.define_material(\n",
    "    E=69e9,\n",
    "    rho=2700,\n",
    "    yield_strength=241e6,\n",
    "    shear_strength=207e6\n",
    ")"
   ]
  },
  {
   "cell_type": "code",
   "execution_count": 8,
   "id": "0850556a-1152-42a4-bffc-37fb35fc5f43",
   "metadata": {
    "tags": []
   },
   "outputs": [
    {
     "name": "stdout",
     "output_type": "stream",
     "text": [
      "Optimizing planform\n"
     ]
    },
    {
     "name": "stderr",
     "output_type": "stream",
     "text": [
      "/home/studio-lab-user/.conda/envs/default/lib/python3.9/site-packages/scipy/optimize/_slsqp_py.py:437: RuntimeWarning: Values in x were outside bounds during a minimize step, clipping to bounds\n",
      "  fx = wrapped_fun(x)\n",
      "/home/studio-lab-user/.conda/envs/default/lib/python3.9/site-packages/scipy/optimize/_slsqp_py.py:437: RuntimeWarning: Values in x were outside bounds during a minimize step, clipping to bounds\n",
      "  fx = wrapped_fun(x)\n",
      "/home/studio-lab-user/.conda/envs/default/lib/python3.9/site-packages/scipy/optimize/_slsqp_py.py:437: RuntimeWarning: Values in x were outside bounds during a minimize step, clipping to bounds\n",
      "  fx = wrapped_fun(x)\n",
      "/home/studio-lab-user/.conda/envs/default/lib/python3.9/site-packages/scipy/optimize/_slsqp_py.py:437: RuntimeWarning: Values in x were outside bounds during a minimize step, clipping to bounds\n",
      "  fx = wrapped_fun(x)\n",
      "/home/studio-lab-user/.conda/envs/default/lib/python3.9/site-packages/scipy/optimize/_slsqp_py.py:437: RuntimeWarning: Values in x were outside bounds during a minimize step, clipping to bounds\n",
      "  fx = wrapped_fun(x)\n"
     ]
    },
    {
     "name": "stdout",
     "output_type": "stream",
     "text": [
      "Optimization terminated successfully    (Exit mode 0)\n",
      "            Current function value: 20861.7314797736\n",
      "            Iterations: 22\n",
      "            Function evaluations: 53\n",
      "            Gradient evaluations: 22\n",
      "Optimization Complete\n",
      "-----------------------------------\n",
      "Cl_0 goal: [0.52922581]\n",
      "Optimizing airfoil\n",
      "Optimization terminated successfully    (Exit mode 0)\n",
      "            Current function value: 0.004297603687618813\n",
      "            Iterations: 34\n",
      "            Function evaluations: 47\n",
      "            Gradient evaluations: 34\n",
      "Optimization Complete\n",
      "-----------------------------------\n",
      "Optimizing spars\n",
      "Optimization terminated successfully    (Exit mode 0)\n",
      "            Current function value: 0.12269925770942762\n",
      "            Iterations: 3\n",
      "            Function evaluations: 3\n",
      "            Gradient evaluations: 3\n",
      "Optimization Complete\n",
      "-----------------------------------\n",
      "Main overflow [-0.4]\n",
      "Rear overflow [-0.0452403]\n",
      "Spar distance [0.4452403]\n"
     ]
    }
   ],
   "source": [
    "altitude = 10_000\n",
    "\n",
    "results = opt.solve_wing(\n",
    "    lift_goal=4e5,\n",
    "    safety_factor=0.8,\n",
    "    v_infty=300,\n",
    "    rho=density(altitude),\n",
    "    mu=dyn_viscousity(altitude),\n",
    "    alpha_geo=jnp.deg2rad(jnp.float32(5))\n",
    ")"
   ]
  },
  {
   "cell_type": "code",
   "execution_count": 9,
   "id": "6d896d51-1c20-46a5-8751-0d3e5f966838",
   "metadata": {
    "tags": []
   },
   "outputs": [
    {
     "data": {
      "text/plain": [
       "{'parameters': {'B': array([1.68325042]),\n",
       "  'T': array([0.15]),\n",
       "  'P': array([2.79751649]),\n",
       "  'C': array([0.0202022]),\n",
       "  'E': array([0.94745157]),\n",
       "  'R': array([0.003759]),\n",
       "  'b': array([13.64223256]),\n",
       "  'c': array([2.248434]),\n",
       "  'AR': array([6.06743741])},\n",
       " 'aerodynamics': {'L': Array(400521.71073144, dtype=float64),\n",
       "  'D': Array(19507.24553156, dtype=float64),\n",
       "  'Cl_0': array([0.52922581]),\n",
       "  'alpha_0': Array([-4.82596071], dtype=float64)},\n",
       " 'structure': {'normal': array([0.50828076]),\n",
       "  'shear': array([0.3417103]),\n",
       "  'flange_w': array([0.1]),\n",
       "  'flange_h': array([0.005]),\n",
       "  'web_w': array([0.005]),\n",
       "  'web_h': Array([0.1338784], dtype=float64),\n",
       "  'spar_ratio': Array([10.50487135], dtype=float64),\n",
       "  'main_x': array([0.45]),\n",
       "  'rear_x': array([0.95]),\n",
       "  'material_usage': array([0.12269926])},\n",
       " 'timing': {'planform': 75.96692085266113,\n",
       "  'airfoil': 6.467991590499878,\n",
       "  'spar': 3.35796856880188}}"
      ]
     },
     "execution_count": 9,
     "metadata": {},
     "output_type": "execute_result"
    }
   ],
   "source": [
    "results"
   ]
  },
  {
   "cell_type": "code",
   "execution_count": 10,
   "id": "7e33ba87-7feb-48b0-aa05-70468f539636",
   "metadata": {
    "tags": []
   },
   "outputs": [
    {
     "data": {
      "text/plain": [
       "{'planform': 21.084315299987793,\n",
       " 'airfoil': 5.305545330047607,\n",
       " 'spar': 2.9938952922821045}"
      ]
     },
     "execution_count": 10,
     "metadata": {},
     "output_type": "execute_result"
    }
   ],
   "source": [
    "{'planform': 21.084315299987793,\n",
    "  'airfoil': 5.305545330047607,\n",
    "  'spar': 2.9938952922821045}"
   ]
  }
 ],
 "metadata": {
  "kernelspec": {
   "display_name": ".conda-default:Python",
   "language": "python",
   "name": "conda-env-.conda-default-py"
  },
  "language_info": {
   "codemirror_mode": {
    "name": "ipython",
    "version": 3
   },
   "file_extension": ".py",
   "mimetype": "text/x-python",
   "name": "python",
   "nbconvert_exporter": "python",
   "pygments_lexer": "ipython3",
   "version": "3.9.19"
  }
 },
 "nbformat": 4,
 "nbformat_minor": 5
}
