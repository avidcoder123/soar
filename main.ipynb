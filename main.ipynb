{
 "cells": [
  {
   "cell_type": "code",
   "execution_count": 1,
   "id": "db1160a3-4074-4a5b-bf0e-e97bcc1eeb52",
   "metadata": {},
   "outputs": [],
   "source": [
    "#%pip install equinox openmdao[all]"
   ]
  },
  {
   "cell_type": "code",
   "execution_count": 2,
   "id": "f6bbc7e5-1293-4ae5-99cc-eb934d7152ae",
   "metadata": {
    "tags": []
   },
   "outputs": [],
   "source": [
    "import equinox as eqx\n",
    "from util import generate_base_model, density, dyn_viscousity\n",
    "import jax\n",
    "import jax.numpy as jnp"
   ]
  },
  {
   "cell_type": "code",
   "execution_count": 3,
   "id": "0d820f2f-3351-48c4-bd07-5d3d9d55aa4c",
   "metadata": {
    "tags": []
   },
   "outputs": [],
   "source": [
    "base_model = generate_base_model()\n",
    "\n",
    "lift_model = eqx.tree_deserialise_leaves(f\"models/lift_surrogate.eqx\", base_model)\n",
    "drag_model = eqx.tree_deserialise_leaves(f\"models/drag_surrogate.eqx\", base_model)"
   ]
  },
  {
   "cell_type": "code",
   "execution_count": 4,
   "id": "132ea057-a802-4f4a-8dd6-7c99ee9d6a7b",
   "metadata": {},
   "outputs": [],
   "source": [
    "from optimizer import Optimizer"
   ]
  },
  {
   "cell_type": "code",
   "execution_count": 5,
   "id": "7822fd29-f476-4a6d-93a6-5bf5b5b45e24",
   "metadata": {},
   "outputs": [],
   "source": [
    "opt = Optimizer()"
   ]
  },
  {
   "cell_type": "code",
   "execution_count": 6,
   "id": "7ef89a10-a8ad-438b-95f5-2eb81bdb8cb0",
   "metadata": {
    "tags": []
   },
   "outputs": [],
   "source": [
    "opt.load_surrogates(lift_model, drag_model)"
   ]
  },
  {
   "cell_type": "code",
   "execution_count": 7,
   "id": "ca6ecece-d72b-467c-96b2-e5837e3945aa",
   "metadata": {},
   "outputs": [],
   "source": [
    "opt.define_material(\n",
    "    E=69e9,\n",
    "    rho=2700,\n",
    "    yield_strength=241e6,\n",
    "    shear_strength=207e6\n",
    ")"
   ]
  },
  {
   "cell_type": "code",
   "execution_count": 8,
   "id": "0850556a-1152-42a4-bffc-37fb35fc5f43",
   "metadata": {
    "tags": []
   },
   "outputs": [
    {
     "name": "stdout",
     "output_type": "stream",
     "text": [
      "Optimizing planform\n",
      "Optimization terminated successfully    (Exit mode 0)\n",
      "            Current function value: 309.87289737836437\n",
      "            Iterations: 8\n",
      "            Function evaluations: 14\n",
      "            Gradient evaluations: 8\n",
      "Optimization Complete\n",
      "-----------------------------------\n",
      "Optimizing airfoil\n",
      "Optimization terminated successfully    (Exit mode 0)\n",
      "            Current function value: 0.003735618185834414\n",
      "            Iterations: 22\n",
      "            Function evaluations: 30\n",
      "            Gradient evaluations: 22\n",
      "Optimization Complete\n",
      "-----------------------------------\n",
      "Optimizing spars\n",
      "Optimization terminated successfully    (Exit mode 0)\n",
      "            Current function value: 0.04121002375639479\n",
      "            Iterations: 5\n",
      "            Function evaluations: 5\n",
      "            Gradient evaluations: 5\n",
      "Optimization Complete\n",
      "-----------------------------------\n"
     ]
    }
   ],
   "source": [
    "altitude = 2900\n",
    "\n",
    "results = opt.solve_wing(\n",
    "    lift_goal=10710,\n",
    "    safety_factor=0.75,\n",
    "    v_infty=57,\n",
    "    rho=density(altitude),\n",
    "    mu=dyn_viscousity(altitude),\n",
    "    alpha_geo=jnp.deg2rad(jnp.float32(0))\n",
    ")"
   ]
  },
  {
   "cell_type": "code",
   "execution_count": 9,
   "id": "6d896d51-1c20-46a5-8751-0d3e5f966838",
   "metadata": {
    "tags": []
   },
   "outputs": [
    {
     "name": "stdout",
     "output_type": "stream",
     "text": [
      "Airfoil\n",
      "----------\n",
      "Base Shape Coef. 1.683\n",
      "Max Thickness    0.186\n",
      "Taper Exponent   2.823\n",
      "Max Camber       0.000\n",
      "Camber Exponent  0.948\n",
      "Reflex           -0.008\n",
      "\n",
      "Planform\n",
      "----------\n",
      "Wingspan         17.773 m\n",
      "Chord length     1.187 m\n",
      "Aspect Ratio     14.969\n",
      "\n",
      "Spars\n",
      "----------\n",
      "Flange Height    0.006 m\n",
      "Flange Width     0.119 m\n",
      "Web Height       0.140 m\n",
      "Web Width        0.006 m\n",
      "Spar Ratio       7.42\n",
      "Main Spar Pos.   0.05c\n",
      "Rear Spar Pos.   0.95c\n",
      "\n",
      "Aerodynamics & Structure\n",
      "----------\n",
      "Lift             10809\n",
      "Drag             202\n",
      "Cl at alpha=0    0.40\n",
      "Alpha Cl=0       -3.69 deg\n",
      "Max τ threshold  0.15%\n",
      "Max σ threshold  9.91%\n",
      "Material Usage   0.041 m3\n",
      "\n",
      "Timing\n",
      "----------\n",
      "Planform         23 seconds\n",
      "Airfoil          4 seconds\n",
      "Spars            3 seconds\n",
      "Total            30 seconds\n"
     ]
    }
   ],
   "source": [
    "from util import pretty_print\n",
    "\n",
    "pretty_print(results)"
   ]
  }
 ],
 "metadata": {
  "kernelspec": {
   "display_name": ".conda-default:Python",
   "language": "python",
   "name": "conda-env-.conda-default-py"
  },
  "language_info": {
   "codemirror_mode": {
    "name": "ipython",
    "version": 3
   },
   "file_extension": ".py",
   "mimetype": "text/x-python",
   "name": "python",
   "nbconvert_exporter": "python",
   "pygments_lexer": "ipython3",
   "version": "3.9.19"
  }
 },
 "nbformat": 4,
 "nbformat_minor": 5
}
