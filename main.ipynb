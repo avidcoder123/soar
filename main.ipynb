{
 "cells": [
  {
   "cell_type": "code",
   "execution_count": 1,
   "id": "db1160a3-4074-4a5b-bf0e-e97bcc1eeb52",
   "metadata": {},
   "outputs": [],
   "source": [
    "#%pip install equinox openmdao[all]"
   ]
  },
  {
   "cell_type": "code",
   "execution_count": 2,
   "id": "f6bbc7e5-1293-4ae5-99cc-eb934d7152ae",
   "metadata": {
    "tags": []
   },
   "outputs": [],
   "source": [
    "import equinox as eqx\n",
    "from util import generate_base_model, density, dyn_viscousity\n",
    "import jax\n",
    "import jax.numpy as jnp"
   ]
  },
  {
   "cell_type": "code",
   "execution_count": 3,
   "id": "0d820f2f-3351-48c4-bd07-5d3d9d55aa4c",
   "metadata": {
    "tags": []
   },
   "outputs": [],
   "source": [
    "base_model = generate_base_model()\n",
    "\n",
    "lift_model = eqx.tree_deserialise_leaves(f\"models/lift_surrogate.eqx\", base_model)\n",
    "drag_model = eqx.tree_deserialise_leaves(f\"models/drag_surrogate.eqx\", base_model)"
   ]
  },
  {
   "cell_type": "code",
   "execution_count": 4,
   "id": "132ea057-a802-4f4a-8dd6-7c99ee9d6a7b",
   "metadata": {},
   "outputs": [],
   "source": [
    "from optimizer import Optimizer"
   ]
  },
  {
   "cell_type": "code",
   "execution_count": 5,
   "id": "7822fd29-f476-4a6d-93a6-5bf5b5b45e24",
   "metadata": {},
   "outputs": [],
   "source": [
    "opt = Optimizer()"
   ]
  },
  {
   "cell_type": "code",
   "execution_count": 6,
   "id": "7ef89a10-a8ad-438b-95f5-2eb81bdb8cb0",
   "metadata": {
    "tags": []
   },
   "outputs": [],
   "source": [
    "opt.load_surrogates(lift_model, drag_model)"
   ]
  },
  {
   "cell_type": "code",
   "execution_count": 7,
   "id": "ca6ecece-d72b-467c-96b2-e5837e3945aa",
   "metadata": {},
   "outputs": [],
   "source": [
    "opt.define_material(\n",
    "    E=69e9,\n",
    "    rho=2700,\n",
    "    yield_strength=241e6,\n",
    "    shear_strength=207e6\n",
    ")"
   ]
  },
  {
   "cell_type": "code",
   "execution_count": 8,
   "id": "0850556a-1152-42a4-bffc-37fb35fc5f43",
   "metadata": {
    "tags": []
   },
   "outputs": [
    {
     "name": "stdout",
     "output_type": "stream",
     "text": [
      "Optimizing planform\n",
      "Optimization terminated successfully    (Exit mode 0)\n",
      "            Current function value: 530.250454965089\n",
      "            Iterations: 4\n",
      "            Function evaluations: 6\n",
      "            Gradient evaluations: 4\n",
      "Optimization Complete\n",
      "-----------------------------------\n",
      "Optimizing airfoil\n",
      "Optimization terminated successfully    (Exit mode 0)\n",
      "            Current function value: 0.0034212841171024876\n",
      "            Iterations: 31\n",
      "            Function evaluations: 45\n",
      "            Gradient evaluations: 31\n",
      "Optimization Complete\n",
      "-----------------------------------\n",
      "Optimizing spars\n",
      "Optimization terminated successfully    (Exit mode 0)\n",
      "            Current function value: 0.02319789080124113\n",
      "            Iterations: 6\n",
      "            Function evaluations: 6\n",
      "            Gradient evaluations: 6\n",
      "Optimization Complete\n",
      "-----------------------------------\n"
     ]
    }
   ],
   "source": [
    "altitude = 6700\n",
    "\n",
    "results = opt.solve_wing(\n",
    "    lift_goal=18780,\n",
    "    safety_factor=0.75,\n",
    "    v_infty=110,\n",
    "    rho=density(altitude),\n",
    "    mu=dyn_viscousity(altitude),\n",
    "    alpha_geo=jnp.deg2rad(jnp.float32(1))\n",
    ")"
   ]
  },
  {
   "cell_type": "code",
   "execution_count": 9,
   "id": "6d896d51-1c20-46a5-8751-0d3e5f966838",
   "metadata": {
    "tags": []
   },
   "outputs": [
    {
     "name": "stdout",
     "output_type": "stream",
     "text": [
      "Airfoil\n",
      "----------\n",
      "Base Shape Coef. 1.687\n",
      "Max Thickness    0.185\n",
      "Taper Exponent   2.833\n",
      "Max Camber       0.000\n",
      "Camber Exponent  0.953\n",
      "Reflex           -0.007\n",
      "\n",
      "Planform\n",
      "----------\n",
      "Wingspan         14.353 m\n",
      "Chord length     1.000 m\n",
      "Aspect Ratio     14.353\n",
      "\n",
      "Spars\n",
      "----------\n",
      "Flange Height    0.005 m\n",
      "Flange Width     0.100 m\n",
      "Web Height       0.117 m\n",
      "Web Width        0.005 m\n",
      "Spar Ratio       7.39\n",
      "Main Spar Pos.   0.05c\n",
      "Rear Spar Pos.   0.95c\n",
      "\n",
      "Aerodynamics & Structure\n",
      "----------\n",
      "Lift             18734\n",
      "Drag             343\n",
      "Cl at alpha=0    0.32\n",
      "Alpha Cl=0       -2.95 deg\n",
      "Max τ threshold  0.36%\n",
      "Max σ threshold  21.90%\n",
      "Material Usage   0.023 m3\n",
      "\n",
      "Timing\n",
      "----------\n",
      "Planform         15 seconds\n",
      "Airfoil          4 seconds\n",
      "Spars            3 seconds\n",
      "Total            23 seconds\n"
     ]
    }
   ],
   "source": [
    "from util import pretty_print\n",
    "\n",
    "pretty_print(results)"
   ]
  }
 ],
 "metadata": {
  "kernelspec": {
   "display_name": ".conda-default:Python",
   "language": "python",
   "name": "conda-env-.conda-default-py"
  },
  "language_info": {
   "codemirror_mode": {
    "name": "ipython",
    "version": 3
   },
   "file_extension": ".py",
   "mimetype": "text/x-python",
   "name": "python",
   "nbconvert_exporter": "python",
   "pygments_lexer": "ipython3",
   "version": "3.9.19"
  }
 },
 "nbformat": 4,
 "nbformat_minor": 5
}
