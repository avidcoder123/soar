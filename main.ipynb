{
 "cells": [
  {
   "cell_type": "code",
   "execution_count": 1,
   "id": "db1160a3-4074-4a5b-bf0e-e97bcc1eeb52",
   "metadata": {},
   "outputs": [
    {
     "name": "stdout",
     "output_type": "stream",
     "text": [
      "Requirement already satisfied: equinox in /home/studio-lab-user/.conda/envs/default/lib/python3.9/site-packages (0.11.4)\n",
      "Requirement already satisfied: openmdao[all] in /home/studio-lab-user/.conda/envs/default/lib/python3.9/site-packages (3.34.2)\n",
      "Requirement already satisfied: jaxtyping>=0.2.20 in /home/studio-lab-user/.conda/envs/default/lib/python3.9/site-packages (from equinox) (0.2.33)\n",
      "Requirement already satisfied: jax>=0.4.13 in /home/studio-lab-user/.conda/envs/default/lib/python3.9/site-packages (from equinox) (0.4.30)\n",
      "Requirement already satisfied: typing-extensions>=4.5.0 in /home/studio-lab-user/.conda/envs/default/lib/python3.9/site-packages (from equinox) (4.11.0)\n",
      "Requirement already satisfied: networkx>=2.0 in /home/studio-lab-user/.conda/envs/default/lib/python3.9/site-packages (from openmdao[all]) (3.2.1)\n",
      "Requirement already satisfied: packaging in /home/studio-lab-user/.conda/envs/default/lib/python3.9/site-packages (from openmdao[all]) (24.0)\n",
      "Requirement already satisfied: numpy<2 in /home/studio-lab-user/.conda/envs/default/lib/python3.9/site-packages (from openmdao[all]) (1.24.4)\n",
      "Requirement already satisfied: scipy in /home/studio-lab-user/.conda/envs/default/lib/python3.9/site-packages (from openmdao[all]) (1.13.1)\n",
      "Requirement already satisfied: requests in /home/studio-lab-user/.conda/envs/default/lib/python3.9/site-packages (from openmdao[all]) (2.32.3)\n",
      "Requirement already satisfied: ipyparallel in /home/studio-lab-user/.conda/envs/default/lib/python3.9/site-packages (from openmdao[all]) (8.8.0)\n",
      "Requirement already satisfied: numpydoc>=1.1 in /home/studio-lab-user/.conda/envs/default/lib/python3.9/site-packages (from openmdao[all]) (1.6.0)\n",
      "Requirement already satisfied: jinja2>=3.1.4 in /home/studio-lab-user/.conda/envs/default/lib/python3.9/site-packages (from openmdao[all]) (3.1.4)\n",
      "Requirement already satisfied: sphinx-sitemap in /home/studio-lab-user/.conda/envs/default/lib/python3.9/site-packages (from openmdao[all]) (2.6.0)\n",
      "Requirement already satisfied: num2words in /home/studio-lab-user/.conda/envs/default/lib/python3.9/site-packages (from openmdao[all]) (0.5.13)\n",
      "Requirement already satisfied: idna>=3.7 in /home/studio-lab-user/.conda/envs/default/lib/python3.9/site-packages (from openmdao[all]) (3.7)\n",
      "Requirement already satisfied: pydocstyle>=2.0.0 in /home/studio-lab-user/.conda/envs/default/lib/python3.9/site-packages (from openmdao[all]) (6.3.0)\n",
      "Requirement already satisfied: testflo>=1.3.6 in /home/studio-lab-user/.conda/envs/default/lib/python3.9/site-packages (from openmdao[all]) (1.4.19)\n",
      "Requirement already satisfied: tqdm>=4.66.3 in /home/studio-lab-user/.conda/envs/default/lib/python3.9/site-packages (from openmdao[all]) (4.66.5)\n",
      "Requirement already satisfied: parameterized in /home/studio-lab-user/.conda/envs/default/lib/python3.9/site-packages (from openmdao[all]) (0.9.0)\n",
      "Requirement already satisfied: jupyter-book==0.14 in /home/studio-lab-user/.conda/envs/default/lib/python3.9/site-packages (from openmdao[all]) (0.14.0)\n",
      "Requirement already satisfied: aiounittest in /home/studio-lab-user/.conda/envs/default/lib/python3.9/site-packages (from openmdao[all]) (1.4.2)\n",
      "Requirement already satisfied: bokeh>=2.4.0 in /home/studio-lab-user/.conda/envs/default/lib/python3.9/site-packages (from openmdao[all]) (3.4.3)\n",
      "Requirement already satisfied: websockets>8 in /home/studio-lab-user/.conda/envs/default/lib/python3.9/site-packages (from openmdao[all]) (13.0.1)\n",
      "Requirement already satisfied: matplotlib in /home/studio-lab-user/.conda/envs/default/lib/python3.9/site-packages (from openmdao[all]) (3.9.1.post1)\n",
      "Requirement already satisfied: pycodestyle>=2.4.0 in /home/studio-lab-user/.conda/envs/default/lib/python3.9/site-packages (from openmdao[all]) (2.11.1)\n",
      "Requirement already satisfied: jaxlib>=0.4.0 in /home/studio-lab-user/.conda/envs/default/lib/python3.9/site-packages (from openmdao[all]) (0.4.30)\n",
      "Requirement already satisfied: playwright>=1.20 in /home/studio-lab-user/.conda/envs/default/lib/python3.9/site-packages (from openmdao[all]) (1.47.0)\n",
      "Requirement already satisfied: pydoe3 in /home/studio-lab-user/.conda/envs/default/lib/python3.9/site-packages (from openmdao[all]) (1.0.4)\n",
      "Requirement already satisfied: colorama in /home/studio-lab-user/.conda/envs/default/lib/python3.9/site-packages (from openmdao[all]) (0.4.6)\n",
      "Requirement already satisfied: ipympl in /home/studio-lab-user/.conda/envs/default/lib/python3.9/site-packages (from openmdao[all]) (0.9.4)\n",
      "Requirement already satisfied: notebook in /home/studio-lab-user/.conda/envs/default/lib/python3.9/site-packages (from openmdao[all]) (6.4.12)\n",
      "Requirement already satisfied: sphinx-comments in /home/studio-lab-user/.conda/envs/default/lib/python3.9/site-packages (from jupyter-book==0.14->openmdao[all]) (0.0.3)\n",
      "Requirement already satisfied: sphinx-book-theme==0.4.0rc1 in /home/studio-lab-user/.conda/envs/default/lib/python3.9/site-packages (from jupyter-book==0.14->openmdao[all]) (0.4.0rc1)\n",
      "Requirement already satisfied: sphinx-thebe~=0.2.0 in /home/studio-lab-user/.conda/envs/default/lib/python3.9/site-packages (from jupyter-book==0.14->openmdao[all]) (0.2.1)\n",
      "Requirement already satisfied: sphinx_togglebutton in /home/studio-lab-user/.conda/envs/default/lib/python3.9/site-packages (from jupyter-book==0.14->openmdao[all]) (0.3.2)\n",
      "Requirement already satisfied: linkify-it-py~=2.0.0 in /home/studio-lab-user/.conda/envs/default/lib/python3.9/site-packages (from jupyter-book==0.14->openmdao[all]) (2.0.3)\n",
      "Requirement already satisfied: pyyaml in /home/studio-lab-user/.conda/envs/default/lib/python3.9/site-packages (from jupyter-book==0.14->openmdao[all]) (6.0.1)\n",
      "Requirement already satisfied: sphinxcontrib-bibtex<=2.5.0,>=2.2.0 in /home/studio-lab-user/.conda/envs/default/lib/python3.9/site-packages (from jupyter-book==0.14->openmdao[all]) (2.5.0)\n",
      "Requirement already satisfied: sphinx-external-toc~=0.3.1 in /home/studio-lab-user/.conda/envs/default/lib/python3.9/site-packages (from jupyter-book==0.14->openmdao[all]) (0.3.1)\n",
      "Requirement already satisfied: sphinx-multitoc-numbering~=0.1.3 in /home/studio-lab-user/.conda/envs/default/lib/python3.9/site-packages (from jupyter-book==0.14->openmdao[all]) (0.1.3)\n",
      "Requirement already satisfied: sphinx-design~=0.3.0 in /home/studio-lab-user/.conda/envs/default/lib/python3.9/site-packages (from jupyter-book==0.14->openmdao[all]) (0.3.0)\n",
      "Requirement already satisfied: sphinx<6,>=4 in /home/studio-lab-user/.conda/envs/default/lib/python3.9/site-packages (from jupyter-book==0.14->openmdao[all]) (5.0.2)\n",
      "Requirement already satisfied: jsonschema<5 in /home/studio-lab-user/.conda/envs/default/lib/python3.9/site-packages (from jupyter-book==0.14->openmdao[all]) (4.22.0)\n",
      "Requirement already satisfied: myst-nb~=0.17.1 in /home/studio-lab-user/.conda/envs/default/lib/python3.9/site-packages (from jupyter-book==0.14->openmdao[all]) (0.17.2)\n",
      "Requirement already satisfied: docutils<0.19,>=0.15 in /home/studio-lab-user/.conda/envs/default/lib/python3.9/site-packages (from jupyter-book==0.14->openmdao[all]) (0.18.1)\n",
      "Requirement already satisfied: sphinx-copybutton in /home/studio-lab-user/.conda/envs/default/lib/python3.9/site-packages (from jupyter-book==0.14->openmdao[all]) (0.5.2)\n",
      "Requirement already satisfied: sphinx-jupyterbook-latex~=0.5.2 in /home/studio-lab-user/.conda/envs/default/lib/python3.9/site-packages (from jupyter-book==0.14->openmdao[all]) (0.5.2)\n",
      "Requirement already satisfied: click<9,>=7.1 in /home/studio-lab-user/.conda/envs/default/lib/python3.9/site-packages (from jupyter-book==0.14->openmdao[all]) (8.1.7)\n",
      "Requirement already satisfied: pydata-sphinx-theme~=0.12.0 in /home/studio-lab-user/.conda/envs/default/lib/python3.9/site-packages (from sphinx-book-theme==0.4.0rc1->jupyter-book==0.14->openmdao[all]) (0.12.0)\n",
      "Requirement already satisfied: pandas>=1.2 in /home/studio-lab-user/.conda/envs/default/lib/python3.9/site-packages (from bokeh>=2.4.0->openmdao[all]) (2.2.2)\n",
      "Requirement already satisfied: tornado>=6.2 in /home/studio-lab-user/.conda/envs/default/lib/python3.9/site-packages (from bokeh>=2.4.0->openmdao[all]) (6.4)\n",
      "Requirement already satisfied: xyzservices>=2021.09.1 in /home/studio-lab-user/.conda/envs/default/lib/python3.9/site-packages (from bokeh>=2.4.0->openmdao[all]) (2024.9.0)\n",
      "Requirement already satisfied: pillow>=7.1.0 in /home/studio-lab-user/.conda/envs/default/lib/python3.9/site-packages (from bokeh>=2.4.0->openmdao[all]) (10.2.0)\n",
      "Requirement already satisfied: contourpy>=1.2 in /home/studio-lab-user/.conda/envs/default/lib/python3.9/site-packages (from bokeh>=2.4.0->openmdao[all]) (1.2.1)\n",
      "Requirement already satisfied: importlib-metadata>=4.6 in /home/studio-lab-user/.conda/envs/default/lib/python3.9/site-packages (from jax>=0.4.13->equinox) (7.1.0)\n",
      "Requirement already satisfied: opt-einsum in /home/studio-lab-user/.conda/envs/default/lib/python3.9/site-packages (from jax>=0.4.13->equinox) (3.3.0)\n",
      "Requirement already satisfied: ml-dtypes>=0.2.0 in /home/studio-lab-user/.conda/envs/default/lib/python3.9/site-packages (from jax>=0.4.13->equinox) (0.4.0)\n",
      "Requirement already satisfied: zipp>=0.5 in /home/studio-lab-user/.conda/envs/default/lib/python3.9/site-packages (from importlib-metadata>=4.6->jax>=0.4.13->equinox) (3.17.0)\n",
      "Requirement already satisfied: typeguard==2.13.3 in /home/studio-lab-user/.conda/envs/default/lib/python3.9/site-packages (from jaxtyping>=0.2.20->equinox) (2.13.3)\n",
      "Requirement already satisfied: MarkupSafe>=2.0 in /home/studio-lab-user/.conda/envs/default/lib/python3.9/site-packages (from jinja2>=3.1.4->openmdao[all]) (2.1.5)\n",
      "Requirement already satisfied: rpds-py>=0.7.1 in /home/studio-lab-user/.conda/envs/default/lib/python3.9/site-packages (from jsonschema<5->jupyter-book==0.14->openmdao[all]) (0.18.1)\n",
      "Requirement already satisfied: referencing>=0.28.4 in /home/studio-lab-user/.conda/envs/default/lib/python3.9/site-packages (from jsonschema<5->jupyter-book==0.14->openmdao[all]) (0.35.1)\n",
      "Requirement already satisfied: attrs>=22.2.0 in /home/studio-lab-user/.conda/envs/default/lib/python3.9/site-packages (from jsonschema<5->jupyter-book==0.14->openmdao[all]) (23.2.0)\n",
      "Requirement already satisfied: jsonschema-specifications>=2023.03.6 in /home/studio-lab-user/.conda/envs/default/lib/python3.9/site-packages (from jsonschema<5->jupyter-book==0.14->openmdao[all]) (2023.12.1)\n",
      "Requirement already satisfied: uc-micro-py in /home/studio-lab-user/.conda/envs/default/lib/python3.9/site-packages (from linkify-it-py~=2.0.0->jupyter-book==0.14->openmdao[all]) (1.0.3)\n",
      "Requirement already satisfied: nbclient in /home/studio-lab-user/.conda/envs/default/lib/python3.9/site-packages (from myst-nb~=0.17.1->jupyter-book==0.14->openmdao[all]) (0.7.4)\n",
      "Requirement already satisfied: jupyter-cache<0.7,>=0.5 in /home/studio-lab-user/.conda/envs/default/lib/python3.9/site-packages (from myst-nb~=0.17.1->jupyter-book==0.14->openmdao[all]) (0.6.1)\n",
      "Requirement already satisfied: ipython in /home/studio-lab-user/.conda/envs/default/lib/python3.9/site-packages (from myst-nb~=0.17.1->jupyter-book==0.14->openmdao[all]) (7.33.0)\n",
      "Requirement already satisfied: myst-parser~=0.18.0 in /home/studio-lab-user/.conda/envs/default/lib/python3.9/site-packages (from myst-nb~=0.17.1->jupyter-book==0.14->openmdao[all]) (0.18.1)\n",
      "Requirement already satisfied: nbformat~=5.0 in /home/studio-lab-user/.conda/envs/default/lib/python3.9/site-packages (from myst-nb~=0.17.1->jupyter-book==0.14->openmdao[all]) (5.10.4)\n",
      "Requirement already satisfied: ipykernel in /home/studio-lab-user/.conda/envs/default/lib/python3.9/site-packages (from myst-nb~=0.17.1->jupyter-book==0.14->openmdao[all]) (6.4.2)\n",
      "Requirement already satisfied: tabulate in /home/studio-lab-user/.conda/envs/default/lib/python3.9/site-packages (from jupyter-cache<0.7,>=0.5->myst-nb~=0.17.1->jupyter-book==0.14->openmdao[all]) (0.9.0)\n",
      "Requirement already satisfied: sqlalchemy<3,>=1.3.12 in /home/studio-lab-user/.conda/envs/default/lib/python3.9/site-packages (from jupyter-cache<0.7,>=0.5->myst-nb~=0.17.1->jupyter-book==0.14->openmdao[all]) (2.0.34)\n",
      "Requirement already satisfied: markdown-it-py<3.0.0,>=1.0.0 in /home/studio-lab-user/.conda/envs/default/lib/python3.9/site-packages (from myst-parser~=0.18.0->myst-nb~=0.17.1->jupyter-book==0.14->openmdao[all]) (2.2.0)\n",
      "Requirement already satisfied: mdit-py-plugins~=0.3.1 in /home/studio-lab-user/.conda/envs/default/lib/python3.9/site-packages (from myst-parser~=0.18.0->myst-nb~=0.17.1->jupyter-book==0.14->openmdao[all]) (0.3.5)\n",
      "Requirement already satisfied: mdurl~=0.1 in /home/studio-lab-user/.conda/envs/default/lib/python3.9/site-packages (from markdown-it-py<3.0.0,>=1.0.0->myst-parser~=0.18.0->myst-nb~=0.17.1->jupyter-book==0.14->openmdao[all]) (0.1.2)\n",
      "Requirement already satisfied: jupyter-core!=5.0.*,>=4.12 in /home/studio-lab-user/.conda/envs/default/lib/python3.9/site-packages (from nbclient->myst-nb~=0.17.1->jupyter-book==0.14->openmdao[all]) (5.7.2)\n",
      "Requirement already satisfied: traitlets>=5.3 in /home/studio-lab-user/.conda/envs/default/lib/python3.9/site-packages (from nbclient->myst-nb~=0.17.1->jupyter-book==0.14->openmdao[all]) (5.14.3)\n",
      "Requirement already satisfied: jupyter-client>=6.1.12 in /home/studio-lab-user/.conda/envs/default/lib/python3.9/site-packages (from nbclient->myst-nb~=0.17.1->jupyter-book==0.14->openmdao[all]) (7.4.9)\n",
      "Requirement already satisfied: pyzmq>=23.0 in /home/studio-lab-user/.conda/envs/default/lib/python3.9/site-packages (from jupyter-client>=6.1.12->nbclient->myst-nb~=0.17.1->jupyter-book==0.14->openmdao[all]) (26.0.3)\n",
      "Requirement already satisfied: entrypoints in /home/studio-lab-user/.conda/envs/default/lib/python3.9/site-packages (from jupyter-client>=6.1.12->nbclient->myst-nb~=0.17.1->jupyter-book==0.14->openmdao[all]) (0.4)\n",
      "Requirement already satisfied: python-dateutil>=2.8.2 in /home/studio-lab-user/.conda/envs/default/lib/python3.9/site-packages (from jupyter-client>=6.1.12->nbclient->myst-nb~=0.17.1->jupyter-book==0.14->openmdao[all]) (2.9.0)\n",
      "Requirement already satisfied: nest-asyncio>=1.5.4 in /home/studio-lab-user/.conda/envs/default/lib/python3.9/site-packages (from jupyter-client>=6.1.12->nbclient->myst-nb~=0.17.1->jupyter-book==0.14->openmdao[all]) (1.6.0)\n",
      "Requirement already satisfied: platformdirs>=2.5 in /home/studio-lab-user/.conda/envs/default/lib/python3.9/site-packages (from jupyter-core!=5.0.*,>=4.12->nbclient->myst-nb~=0.17.1->jupyter-book==0.14->openmdao[all]) (4.2.2)\n",
      "Requirement already satisfied: fastjsonschema>=2.15 in /home/studio-lab-user/.conda/envs/default/lib/python3.9/site-packages (from nbformat~=5.0->myst-nb~=0.17.1->jupyter-book==0.14->openmdao[all]) (2.19.1)\n",
      "Requirement already satisfied: tomli>=1.1.0 in /home/studio-lab-user/.conda/envs/default/lib/python3.9/site-packages (from numpydoc>=1.1->openmdao[all]) (2.0.1)\n",
      "Requirement already satisfied: tzdata>=2022.7 in /home/studio-lab-user/.conda/envs/default/lib/python3.9/site-packages (from pandas>=1.2->bokeh>=2.4.0->openmdao[all]) (2024.1)\n",
      "Requirement already satisfied: pytz>=2020.1 in /home/studio-lab-user/.conda/envs/default/lib/python3.9/site-packages (from pandas>=1.2->bokeh>=2.4.0->openmdao[all]) (2024.1)\n",
      "Requirement already satisfied: greenlet==3.0.3 in /home/studio-lab-user/.conda/envs/default/lib/python3.9/site-packages (from playwright>=1.20->openmdao[all]) (3.0.3)\n",
      "Requirement already satisfied: pyee==12.0.0 in /home/studio-lab-user/.conda/envs/default/lib/python3.9/site-packages (from playwright>=1.20->openmdao[all]) (12.0.0)\n",
      "Requirement already satisfied: beautifulsoup4 in /home/studio-lab-user/.conda/envs/default/lib/python3.9/site-packages (from pydata-sphinx-theme~=0.12.0->sphinx-book-theme==0.4.0rc1->jupyter-book==0.14->openmdao[all]) (4.12.3)\n",
      "Requirement already satisfied: pygments>=2.7 in /home/studio-lab-user/.conda/envs/default/lib/python3.9/site-packages (from pydata-sphinx-theme~=0.12.0->sphinx-book-theme==0.4.0rc1->jupyter-book==0.14->openmdao[all]) (2.18.0)\n",
      "Requirement already satisfied: snowballstemmer>=2.2.0 in /home/studio-lab-user/.conda/envs/default/lib/python3.9/site-packages (from pydocstyle>=2.0.0->openmdao[all]) (2.2.0)\n",
      "Requirement already satisfied: six>=1.5 in /home/studio-lab-user/.conda/envs/default/lib/python3.9/site-packages (from python-dateutil>=2.8.2->jupyter-client>=6.1.12->nbclient->myst-nb~=0.17.1->jupyter-book==0.14->openmdao[all]) (1.16.0)\n",
      "Requirement already satisfied: sphinxcontrib-devhelp in /home/studio-lab-user/.conda/envs/default/lib/python3.9/site-packages (from sphinx<6,>=4->jupyter-book==0.14->openmdao[all]) (2.0.0)\n",
      "Requirement already satisfied: sphinxcontrib-htmlhelp>=2.0.0 in /home/studio-lab-user/.conda/envs/default/lib/python3.9/site-packages (from sphinx<6,>=4->jupyter-book==0.14->openmdao[all]) (2.1.0)\n",
      "Requirement already satisfied: sphinxcontrib-qthelp in /home/studio-lab-user/.conda/envs/default/lib/python3.9/site-packages (from sphinx<6,>=4->jupyter-book==0.14->openmdao[all]) (2.0.0)\n",
      "Requirement already satisfied: alabaster<0.8,>=0.7 in /home/studio-lab-user/.conda/envs/default/lib/python3.9/site-packages (from sphinx<6,>=4->jupyter-book==0.14->openmdao[all]) (0.7.16)\n",
      "Requirement already satisfied: sphinxcontrib-applehelp in /home/studio-lab-user/.conda/envs/default/lib/python3.9/site-packages (from sphinx<6,>=4->jupyter-book==0.14->openmdao[all]) (2.0.0)\n",
      "Requirement already satisfied: sphinxcontrib-serializinghtml>=1.1.5 in /home/studio-lab-user/.conda/envs/default/lib/python3.9/site-packages (from sphinx<6,>=4->jupyter-book==0.14->openmdao[all]) (2.0.0)\n",
      "Requirement already satisfied: babel>=1.3 in /home/studio-lab-user/.conda/envs/default/lib/python3.9/site-packages (from sphinx<6,>=4->jupyter-book==0.14->openmdao[all]) (2.14.0)\n",
      "Requirement already satisfied: imagesize in /home/studio-lab-user/.conda/envs/default/lib/python3.9/site-packages (from sphinx<6,>=4->jupyter-book==0.14->openmdao[all]) (1.4.1)\n",
      "Requirement already satisfied: sphinxcontrib-jsmath in /home/studio-lab-user/.conda/envs/default/lib/python3.9/site-packages (from sphinx<6,>=4->jupyter-book==0.14->openmdao[all]) (1.0.1)\n",
      "Requirement already satisfied: certifi>=2017.4.17 in /home/studio-lab-user/.conda/envs/default/lib/python3.9/site-packages (from requests->openmdao[all]) (2024.7.4)\n",
      "Requirement already satisfied: charset-normalizer<4,>=2 in /home/studio-lab-user/.conda/envs/default/lib/python3.9/site-packages (from requests->openmdao[all]) (3.3.2)\n",
      "Requirement already satisfied: urllib3<3,>=1.21.1 in /home/studio-lab-user/.conda/envs/default/lib/python3.9/site-packages (from requests->openmdao[all]) (1.26.19)\n",
      "Requirement already satisfied: pybtex>=0.24 in /home/studio-lab-user/.conda/envs/default/lib/python3.9/site-packages (from sphinxcontrib-bibtex<=2.5.0,>=2.2.0->jupyter-book==0.14->openmdao[all]) (0.24.0)\n",
      "Requirement already satisfied: pybtex-docutils>=1.0.0 in /home/studio-lab-user/.conda/envs/default/lib/python3.9/site-packages (from sphinxcontrib-bibtex<=2.5.0,>=2.2.0->jupyter-book==0.14->openmdao[all]) (1.0.3)\n",
      "Requirement already satisfied: latexcodec>=1.0.4 in /home/studio-lab-user/.conda/envs/default/lib/python3.9/site-packages (from pybtex>=0.24->sphinxcontrib-bibtex<=2.5.0,>=2.2.0->jupyter-book==0.14->openmdao[all]) (3.0.0)\n",
      "Requirement already satisfied: coverage>=6.0 in /home/studio-lab-user/.conda/envs/default/lib/python3.9/site-packages (from testflo>=1.3.6->openmdao[all]) (7.6.1)\n",
      "Requirement already satisfied: wrapt in /home/studio-lab-user/.conda/envs/default/lib/python3.9/site-packages (from aiounittest->openmdao[all]) (1.16.0)\n",
      "Requirement already satisfied: soupsieve>1.2 in /home/studio-lab-user/.conda/envs/default/lib/python3.9/site-packages (from beautifulsoup4->pydata-sphinx-theme~=0.12.0->sphinx-book-theme==0.4.0rc1->jupyter-book==0.14->openmdao[all]) (2.5)\n",
      "Requirement already satisfied: ipython-genutils in /home/studio-lab-user/.conda/envs/default/lib/python3.9/site-packages (from ipykernel->myst-nb~=0.17.1->jupyter-book==0.14->openmdao[all]) (0.2.0)\n",
      "Requirement already satisfied: debugpy<2.0,>=1.0.0 in /home/studio-lab-user/.conda/envs/default/lib/python3.9/site-packages (from ipykernel->myst-nb~=0.17.1->jupyter-book==0.14->openmdao[all]) (1.8.1)\n",
      "Requirement already satisfied: matplotlib-inline<0.2.0,>=0.1.0 in /home/studio-lab-user/.conda/envs/default/lib/python3.9/site-packages (from ipykernel->myst-nb~=0.17.1->jupyter-book==0.14->openmdao[all]) (0.1.7)\n",
      "Requirement already satisfied: setuptools>=18.5 in /home/studio-lab-user/.conda/envs/default/lib/python3.9/site-packages (from ipython->myst-nb~=0.17.1->jupyter-book==0.14->openmdao[all]) (70.0.0)\n",
      "Requirement already satisfied: jedi>=0.16 in /home/studio-lab-user/.conda/envs/default/lib/python3.9/site-packages (from ipython->myst-nb~=0.17.1->jupyter-book==0.14->openmdao[all]) (0.19.1)\n",
      "Requirement already satisfied: pexpect>4.3 in /home/studio-lab-user/.conda/envs/default/lib/python3.9/site-packages (from ipython->myst-nb~=0.17.1->jupyter-book==0.14->openmdao[all]) (4.9.0)\n",
      "Requirement already satisfied: prompt-toolkit!=3.0.0,!=3.0.1,<3.1.0,>=2.0.0 in /home/studio-lab-user/.conda/envs/default/lib/python3.9/site-packages (from ipython->myst-nb~=0.17.1->jupyter-book==0.14->openmdao[all]) (3.0.42)\n",
      "Requirement already satisfied: backcall in /home/studio-lab-user/.conda/envs/default/lib/python3.9/site-packages (from ipython->myst-nb~=0.17.1->jupyter-book==0.14->openmdao[all]) (0.2.0)\n",
      "Requirement already satisfied: decorator in /home/studio-lab-user/.conda/envs/default/lib/python3.9/site-packages (from ipython->myst-nb~=0.17.1->jupyter-book==0.14->openmdao[all]) (5.1.1)\n",
      "Requirement already satisfied: pickleshare in /home/studio-lab-user/.conda/envs/default/lib/python3.9/site-packages (from ipython->myst-nb~=0.17.1->jupyter-book==0.14->openmdao[all]) (0.7.5)\n",
      "Requirement already satisfied: parso<0.9.0,>=0.8.3 in /home/studio-lab-user/.conda/envs/default/lib/python3.9/site-packages (from jedi>=0.16->ipython->myst-nb~=0.17.1->jupyter-book==0.14->openmdao[all]) (0.8.4)\n",
      "Requirement already satisfied: ptyprocess>=0.5 in /home/studio-lab-user/.conda/envs/default/lib/python3.9/site-packages (from pexpect>4.3->ipython->myst-nb~=0.17.1->jupyter-book==0.14->openmdao[all]) (0.7.0)\n",
      "Requirement already satisfied: wcwidth in /home/studio-lab-user/.conda/envs/default/lib/python3.9/site-packages (from prompt-toolkit!=3.0.0,!=3.0.1,<3.1.0,>=2.0.0->ipython->myst-nb~=0.17.1->jupyter-book==0.14->openmdao[all]) (0.2.13)\n",
      "Requirement already satisfied: ipywidgets<9,>=7.6.0 in /home/studio-lab-user/.conda/envs/default/lib/python3.9/site-packages (from ipympl->openmdao[all]) (7.8.0)\n",
      "Requirement already satisfied: jupyterlab-widgets<3,>=1.0.0 in /home/studio-lab-user/.conda/envs/default/lib/python3.9/site-packages (from ipywidgets<9,>=7.6.0->ipympl->openmdao[all]) (1.1.7)\n",
      "Requirement already satisfied: comm>=0.1.3 in /home/studio-lab-user/.conda/envs/default/lib/python3.9/site-packages (from ipywidgets<9,>=7.6.0->ipympl->openmdao[all]) (0.2.2)\n",
      "Requirement already satisfied: widgetsnbextension~=3.6.5 in /home/studio-lab-user/.conda/envs/default/lib/python3.9/site-packages (from ipywidgets<9,>=7.6.0->ipympl->openmdao[all]) (3.6.6)\n",
      "Requirement already satisfied: cycler>=0.10 in /home/studio-lab-user/.conda/envs/default/lib/python3.9/site-packages (from matplotlib->openmdao[all]) (0.12.1)\n",
      "Requirement already satisfied: fonttools>=4.22.0 in /home/studio-lab-user/.conda/envs/default/lib/python3.9/site-packages (from matplotlib->openmdao[all]) (4.53.1)\n",
      "Requirement already satisfied: pyparsing>=2.3.1 in /home/studio-lab-user/.conda/envs/default/lib/python3.9/site-packages (from matplotlib->openmdao[all]) (3.1.2)\n",
      "Requirement already satisfied: importlib-resources>=3.2.0 in /home/studio-lab-user/.conda/envs/default/lib/python3.9/site-packages (from matplotlib->openmdao[all]) (6.4.0)\n",
      "Requirement already satisfied: kiwisolver>=1.3.1 in /home/studio-lab-user/.conda/envs/default/lib/python3.9/site-packages (from matplotlib->openmdao[all]) (1.4.5)\n",
      "Requirement already satisfied: argon2-cffi in /home/studio-lab-user/.conda/envs/default/lib/python3.9/site-packages (from notebook->openmdao[all]) (23.1.0)\n",
      "Requirement already satisfied: prometheus-client in /home/studio-lab-user/.conda/envs/default/lib/python3.9/site-packages (from notebook->openmdao[all]) (0.20.0)\n",
      "Requirement already satisfied: nbconvert>=5 in /home/studio-lab-user/.conda/envs/default/lib/python3.9/site-packages (from notebook->openmdao[all]) (7.16.4)\n",
      "Requirement already satisfied: terminado>=0.8.3 in /home/studio-lab-user/.conda/envs/default/lib/python3.9/site-packages (from notebook->openmdao[all]) (0.18.1)\n",
      "Requirement already satisfied: Send2Trash>=1.8.0 in /home/studio-lab-user/.conda/envs/default/lib/python3.9/site-packages (from notebook->openmdao[all]) (1.8.3)\n",
      "Requirement already satisfied: mistune<4,>=2.0.3 in /home/studio-lab-user/.conda/envs/default/lib/python3.9/site-packages (from nbconvert>=5->notebook->openmdao[all]) (2.0.3)\n",
      "Requirement already satisfied: pandocfilters>=1.4.1 in /home/studio-lab-user/.conda/envs/default/lib/python3.9/site-packages (from nbconvert>=5->notebook->openmdao[all]) (1.5.0)\n",
      "Requirement already satisfied: defusedxml in /home/studio-lab-user/.conda/envs/default/lib/python3.9/site-packages (from nbconvert>=5->notebook->openmdao[all]) (0.7.1)\n",
      "Requirement already satisfied: jupyterlab-pygments in /home/studio-lab-user/.conda/envs/default/lib/python3.9/site-packages (from nbconvert>=5->notebook->openmdao[all]) (0.3.0)\n",
      "Requirement already satisfied: tinycss2 in /home/studio-lab-user/.conda/envs/default/lib/python3.9/site-packages (from nbconvert>=5->notebook->openmdao[all]) (1.3.0)\n",
      "Requirement already satisfied: bleach!=5.0.0 in /home/studio-lab-user/.conda/envs/default/lib/python3.9/site-packages (from nbconvert>=5->notebook->openmdao[all]) (6.1.0)\n",
      "Requirement already satisfied: webencodings in /home/studio-lab-user/.conda/envs/default/lib/python3.9/site-packages (from bleach!=5.0.0->nbconvert>=5->notebook->openmdao[all]) (0.5.1)\n",
      "Requirement already satisfied: argon2-cffi-bindings in /home/studio-lab-user/.conda/envs/default/lib/python3.9/site-packages (from argon2-cffi->notebook->openmdao[all]) (21.2.0)\n",
      "Requirement already satisfied: cffi>=1.0.1 in /home/studio-lab-user/.conda/envs/default/lib/python3.9/site-packages (from argon2-cffi-bindings->argon2-cffi->notebook->openmdao[all]) (1.16.0)\n",
      "Requirement already satisfied: pycparser in /home/studio-lab-user/.conda/envs/default/lib/python3.9/site-packages (from cffi>=1.0.1->argon2-cffi-bindings->argon2-cffi->notebook->openmdao[all]) (2.22)\n",
      "Requirement already satisfied: psutil in /home/studio-lab-user/.conda/envs/default/lib/python3.9/site-packages (from ipyparallel->openmdao[all]) (6.0.0)\n",
      "Requirement already satisfied: docopt>=0.6.2 in /home/studio-lab-user/.conda/envs/default/lib/python3.9/site-packages (from num2words->openmdao[all]) (0.6.2)\n",
      "Requirement already satisfied: wheel in /home/studio-lab-user/.conda/envs/default/lib/python3.9/site-packages (from sphinx_togglebutton->jupyter-book==0.14->openmdao[all]) (0.43.0)\n",
      "Note: you may need to restart the kernel to use updated packages.\n"
     ]
    }
   ],
   "source": [
    "%pip install equinox openmdao[all]"
   ]
  },
  {
   "cell_type": "code",
   "execution_count": 2,
   "id": "f6bbc7e5-1293-4ae5-99cc-eb934d7152ae",
   "metadata": {
    "tags": []
   },
   "outputs": [],
   "source": [
    "import equinox as eqx\n",
    "from util import generate_base_model\n",
    "import jax.numpy as jnp"
   ]
  },
  {
   "cell_type": "code",
   "execution_count": 3,
   "id": "0d820f2f-3351-48c4-bd07-5d3d9d55aa4c",
   "metadata": {
    "tags": []
   },
   "outputs": [],
   "source": [
    "base_model = generate_base_model()\n",
    "\n",
    "lift_model = eqx.tree_deserialise_leaves(f\"models/lift_surrogate.eqx\", base_model)\n",
    "drag_model = eqx.tree_deserialise_leaves(f\"models/drag_surrogate.eqx\", base_model)"
   ]
  },
  {
   "cell_type": "code",
   "execution_count": 4,
   "id": "132ea057-a802-4f4a-8dd6-7c99ee9d6a7b",
   "metadata": {},
   "outputs": [],
   "source": [
    "from optimizer import Optimizer"
   ]
  },
  {
   "cell_type": "code",
   "execution_count": 5,
   "id": "7822fd29-f476-4a6d-93a6-5bf5b5b45e24",
   "metadata": {},
   "outputs": [],
   "source": [
    "opt = Optimizer()"
   ]
  },
  {
   "cell_type": "code",
   "execution_count": 6,
   "id": "7ef89a10-a8ad-438b-95f5-2eb81bdb8cb0",
   "metadata": {
    "tags": []
   },
   "outputs": [],
   "source": [
    "opt.load_surrogates(lift_model, drag_model)"
   ]
  },
  {
   "cell_type": "code",
   "execution_count": 7,
   "id": "0850556a-1152-42a4-bffc-37fb35fc5f43",
   "metadata": {
    "tags": []
   },
   "outputs": [
    {
     "name": "stdout",
     "output_type": "stream",
     "text": [
      "Optimization terminated successfully    (Exit mode 0)\n",
      "            Current function value: 11065.441748513022\n",
      "            Iterations: 3\n",
      "            Function evaluations: 4\n",
      "            Gradient evaluations: 3\n",
      "Optimization Complete\n",
      "-----------------------------------\n",
      "Optimization terminated successfully    (Exit mode 0)\n",
      "            Current function value: 0.08020106432043735\n",
      "            Iterations: 42\n",
      "            Function evaluations: 65\n",
      "            Gradient evaluations: 42\n",
      "Optimization Complete\n",
      "-----------------------------------\n"
     ]
    }
   ],
   "source": [
    "results = opt.solve_wing(\n",
    "    lift_goal=400_000,\n",
    "    v_infty=300,\n",
    "    rho=jnp.float32(0.5),\n",
    "    mu=jnp.float32(1.46e-5),\n",
    "    alpha_geo=jnp.deg2rad(jnp.float32(5))\n",
    ")"
   ]
  },
  {
   "cell_type": "code",
   "execution_count": 8,
   "id": "6d896d51-1c20-46a5-8751-0d3e5f966838",
   "metadata": {
    "tags": []
   },
   "outputs": [
    {
     "data": {
      "text/plain": [
       "{'B': array([1.71150756]),\n",
       " 'T': array([0.2110977]),\n",
       " 'P': array([3.5]),\n",
       " 'C': array([0.22667376]),\n",
       " 'E': array([0.6]),\n",
       " 'R': array([0.02]),\n",
       " 'b': array([21.2874551]),\n",
       " 'c': array([1.42001708])}"
      ]
     },
     "execution_count": 8,
     "metadata": {},
     "output_type": "execute_result"
    }
   ],
   "source": [
    "results"
   ]
  }
 ],
 "metadata": {
  "kernelspec": {
   "display_name": ".conda-default:Python",
   "language": "python",
   "name": "conda-env-.conda-default-py"
  },
  "language_info": {
   "codemirror_mode": {
    "name": "ipython",
    "version": 3
   },
   "file_extension": ".py",
   "mimetype": "text/x-python",
   "name": "python",
   "nbconvert_exporter": "python",
   "pygments_lexer": "ipython3",
   "version": "3.9.19"
  }
 },
 "nbformat": 4,
 "nbformat_minor": 5
}
