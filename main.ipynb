{
 "cells": [
  {
   "cell_type": "code",
   "execution_count": 1,
   "id": "db1160a3-4074-4a5b-bf0e-e97bcc1eeb52",
   "metadata": {},
   "outputs": [],
   "source": [
    "#%pip install equinox openmdao[all]"
   ]
  },
  {
   "cell_type": "code",
   "execution_count": 2,
   "id": "f6bbc7e5-1293-4ae5-99cc-eb934d7152ae",
   "metadata": {
    "tags": []
   },
   "outputs": [],
   "source": [
    "import equinox as eqx\n",
    "from util import generate_base_model, density, dyn_viscousity\n",
    "import jax\n",
    "import jax.numpy as jnp"
   ]
  },
  {
   "cell_type": "code",
   "execution_count": null,
   "id": "0d820f2f-3351-48c4-bd07-5d3d9d55aa4c",
   "metadata": {
    "tags": []
   },
   "outputs": [],
   "source": [
    "base_model = generate_base_model()\n",
    "\n",
    "lift_model = eqx.tree_deserialise_leaves(f\"models/lift_surrogate.eqx\", base_model)\n",
    "drag_model = eqx.tree_deserialise_leaves(f\"models/drag_surrogate.eqx\", base_model)"
   ]
  },
  {
   "cell_type": "code",
   "execution_count": null,
   "id": "132ea057-a802-4f4a-8dd6-7c99ee9d6a7b",
   "metadata": {},
   "outputs": [],
   "source": [
    "from optimizer import Optimizer"
   ]
  },
  {
   "cell_type": "code",
   "execution_count": null,
   "id": "7822fd29-f476-4a6d-93a6-5bf5b5b45e24",
   "metadata": {},
   "outputs": [],
   "source": [
    "opt = Optimizer()"
   ]
  },
  {
   "cell_type": "code",
   "execution_count": null,
   "id": "7ef89a10-a8ad-438b-95f5-2eb81bdb8cb0",
   "metadata": {
    "tags": []
   },
   "outputs": [],
   "source": [
    "opt.load_surrogates(lift_model, drag_model)"
   ]
  },
  {
   "cell_type": "code",
   "execution_count": null,
   "id": "ca6ecece-d72b-467c-96b2-e5837e3945aa",
   "metadata": {},
   "outputs": [],
   "source": [
    "opt.define_material(\n",
    "    E=69e9,\n",
    "    rho=2700,\n",
    "    yield_strength=241e6,\n",
    "    shear_strength=207e6\n",
    ")"
   ]
  },
  {
   "cell_type": "code",
   "execution_count": null,
   "id": "0850556a-1152-42a4-bffc-37fb35fc5f43",
   "metadata": {
    "tags": []
   },
   "outputs": [],
   "source": [
    "altitude = 10_000\n",
    "\n",
    "results = opt.solve_wing(\n",
    "    lift_goal=4e5,\n",
    "    safety_factor=0.8,\n",
    "    v_infty=300,\n",
    "    rho=density(altitude),\n",
    "    mu=dyn_viscousity(altitude),\n",
    "    alpha_geo=jnp.deg2rad(jnp.float32(5))\n",
    ")"
   ]
  },
  {
   "cell_type": "code",
   "execution_count": null,
   "id": "6d896d51-1c20-46a5-8751-0d3e5f966838",
   "metadata": {
    "tags": []
   },
   "outputs": [],
   "source": [
    "results"
   ]
  },
  {
   "cell_type": "code",
   "execution_count": null,
   "id": "7e33ba87-7feb-48b0-aa05-70468f539636",
   "metadata": {
    "tags": []
   },
   "outputs": [],
   "source": [
    "{'planform': 21.084315299987793,\n",
    "  'airfoil': 5.305545330047607,\n",
    "  'spar': 2.9938952922821045}"
   ]
  }
 ],
 "metadata": {
  "kernelspec": {
   "display_name": ".conda-default:Python",
   "language": "python",
   "name": "conda-env-.conda-default-py"
  },
  "language_info": {
   "codemirror_mode": {
    "name": "ipython",
    "version": 3
   },
   "file_extension": ".py",
   "mimetype": "text/x-python",
   "name": "python",
   "nbconvert_exporter": "python",
   "pygments_lexer": "ipython3",
   "version": "3.9.19"
  }
 },
 "nbformat": 4,
 "nbformat_minor": 5
}
